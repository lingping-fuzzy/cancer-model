{
 "metadata": {
  "kernelspec": {
   "language": "python",
   "display_name": "Python 3",
   "name": "python3"
  },
  "language_info": {
   "name": "python",
   "version": "3.10.13",
   "mimetype": "text/x-python",
   "codemirror_mode": {
    "name": "ipython",
    "version": 3
   },
   "pygments_lexer": "ipython3",
   "nbconvert_exporter": "python",
   "file_extension": ".py"
  },
  "kaggle": {
   "accelerator": "none",
   "dataSources": [
    {
     "sourceId": 104884,
     "sourceType": "datasetVersion",
     "datasetId": 54339
    },
    {
     "sourceId": 8811582,
     "sourceType": "datasetVersion",
     "datasetId": 5300241
    },
    {
     "sourceId": 8858536,
     "sourceType": "datasetVersion",
     "datasetId": 5333050
    },
    {
     "sourceId": 9186077,
     "sourceType": "datasetVersion",
     "datasetId": 5552785
    },
    {
     "sourceId": 9494914,
     "sourceType": "datasetVersion",
     "datasetId": 5777592
    },
    {
     "sourceId": 10542425,
     "sourceType": "datasetVersion",
     "datasetId": 6523137
    }
   ],
   "dockerImageVersionId": 30747,
   "isInternetEnabled": true,
   "language": "python",
   "sourceType": "notebook",
   "isGpuEnabled": false
  }
 },
 "nbformat_minor": 4,
 "nbformat": 4,
 "cells": [
  {
   "cell_type": "code",
   "source": "import os\n# import cv2\n\nimport torch\nfrom torch.utils.data import Dataset\nfrom PIL import Image\nimport torchvision.transforms.functional as F\nimport matplotlib.pyplot as plt\n# Create a custom dataset class\nfrom torchvision.transforms.functional import to_pil_image\nfrom sklearn.metrics import classification_report, confusion_matrix\nimport torch.nn as nn\nimport torchvision\nfrom torchvision import models\nimport os\nfrom glob import glob\nimport pandas as pd\n\nfrom PIL import Image\nfrom sklearn.model_selection import StratifiedShuffleSplit\nfrom torch.utils.data import DataLoader\nimport torch.optim as optim\n\nfrom torchvision import  transforms\nimport numpy as np\n",
   "metadata": {
    "execution": {
     "iopub.status.busy": "2025-05-01T13:58:11.093553Z",
     "iopub.execute_input": "2025-05-01T13:58:11.094007Z",
     "iopub.status.idle": "2025-05-01T13:58:18.520395Z",
     "shell.execute_reply.started": "2025-05-01T13:58:11.093953Z",
     "shell.execute_reply": "2025-05-01T13:58:18.519169Z"
    },
    "trusted": true
   },
   "outputs": [],
   "execution_count": 1
  },
  {
   "cell_type": "code",
   "source": "lesion_type_dict = {\n        'nv': 'Melanocytic nevi',\n        'mel': 'Melanoma',\n        'bkl': 'Benign keratosis-like lesions ',\n        'bcc': 'Basal cell carcinoma',\n        'akiec': 'Actinic keratoses',\n        'vasc': 'Vascular lesions',\n        'df': 'Dermatofibroma'\n    }",
   "metadata": {
    "execution": {
     "iopub.status.busy": "2024-10-20T13:33:22.754464Z",
     "iopub.execute_input": "2024-10-20T13:33:22.754826Z",
     "iopub.status.idle": "2024-10-20T13:33:22.759787Z",
     "shell.execute_reply.started": "2024-10-20T13:33:22.754786Z",
     "shell.execute_reply": "2024-10-20T13:33:22.758768Z"
    },
    "trusted": true
   },
   "outputs": [],
   "execution_count": 4
  },
  {
   "cell_type": "code",
   "source": "IMG_SIZE = 256\ntransform_train = transforms.Compose(\n[\n        transforms.Resize((IMG_SIZE,IMG_SIZE)),\n        transforms.RandomHorizontalFlip(),  # Data augmentation: horizontal flip\n        transforms.RandomRotation(10),  # Data augmentation: random rotation\n        transforms.ToTensor(),\n        transforms.Normalize(mean=[0.485, 0.456, 0.406], std=[0.229, 0.224, 0.225]),\n    ])\ntransform_val = transforms.Compose(\n[\n        transforms.Resize((IMG_SIZE,IMG_SIZE)),\n        transforms.ToTensor(),\n        transforms.Normalize(mean=[0.485, 0.456, 0.406], std=[0.229, 0.224, 0.225]),\n    ])\n",
   "metadata": {
    "execution": {
     "iopub.status.busy": "2024-10-20T13:33:20.504995Z",
     "iopub.execute_input": "2024-10-20T13:33:20.505739Z",
     "iopub.status.idle": "2024-10-20T13:33:20.512521Z",
     "shell.execute_reply.started": "2024-10-20T13:33:20.505706Z",
     "shell.execute_reply": "2024-10-20T13:33:20.511535Z"
    },
    "trusted": true
   },
   "outputs": [],
   "execution_count": 3
  },
  {
   "cell_type": "code",
   "source": [
    "def _get_df_data_():\n",
    "    train_df = pd.read_csv('/kaggle/input/ucidatasplits/train_df.csv').drop(columns=['Unnamed: 0'])\n",
    "    val_df = pd.read_csv('/kaggle/input/ucidatasplits/val_df.csv').drop(columns=['Unnamed: 0'])\n",
    "    test_df = pd.read_csv('/kaggle/input/ucidatasplits/test_df.csv').drop(columns=['Unnamed: 0'])\n",
    "    source = '/kaggle/input/skin-cancer-mnist-ham10000/'\n",
    "\n",
    "    train_df['image'] = train_df['path'].map(lambda x: transform_train(Image.open(source+x[5:27]+'/'+x[-16:]).convert(\"RGB\")))\n",
    "    val_df['image'] = val_df['path'].map(lambda x: transform_val(Image.open(source+x[5:27]+'/'+x[-16:]).convert(\"RGB\")))\n",
    "    test_df['image'] = test_df['path'].map(lambda x: transform_val(Image.open(source+x[5:27]+'/'+x[-16:]).convert(\"RGB\")))\n",
    "    \n",
    "    return train_df, val_df, test_df"
   ],
   "metadata": {
    "execution": {
     "iopub.status.busy": "2024-10-20T13:33:24.984288Z",
     "iopub.execute_input": "2024-10-20T13:33:24.984631Z",
     "iopub.status.idle": "2024-10-20T13:33:24.993109Z",
     "shell.execute_reply.started": "2024-10-20T13:33:24.984605Z",
     "shell.execute_reply": "2024-10-20T13:33:24.992228Z"
    },
    "trusted": true
   },
   "outputs": [],
   "execution_count": 5
  },
  {
   "cell_type": "code",
   "source": "import torch\nimport torch.nn as nn\nimport torchvision\nfrom torchvision import models\n\n# Define the MLP\nfrom torchvision.models import ResNet18_Weights\nfrom transformers import ViTForImageClassification, ViTFeatureExtractor\n\nclass ImageEffNet(nn.Module):\n    def __init__(self, output_size, num_classes):\n        super(ImageEffNet, self).__init__()\n        self.net = models.efficientnet_b0(weights='DEFAULT')\n        self.net.classifier[1] = nn.Linear(self.net.classifier[1].in_features, output_size)\n        self.fc = nn.Linear(output_size, num_classes)\n\n    def forward(self, x):\n        x = self.net(x)\n        x = self.fc(x)\n        return x\n    \n# class ImageResnet(nn.Module):\n#     def __init__(self,  output_size, num_classes):\n#         super(ImageResnet, self).__init__()\n#         self.net = models.resnet18(weights=ResNet18_Weights.IMAGENET1K_V1)\n#         # Modify the last layer to output 7 classes\n#          #2048\n#         num_features = self.net.fc.in_features\n#         self.net.fc = nn.Linear(num_features, output_size)\n#         self.fc = nn.Linear(output_size, num_classes)\n\n#     def forward(self, x):\n#         x = self.net(x)\n#         x = self.fc(x)\n#         return x",
   "metadata": {
    "execution": {
     "iopub.status.busy": "2025-05-01T13:58:31.225714Z",
     "iopub.execute_input": "2025-05-01T13:58:31.226183Z",
     "iopub.status.idle": "2025-05-01T13:58:47.401316Z",
     "shell.execute_reply.started": "2025-05-01T13:58:31.226104Z",
     "shell.execute_reply": "2025-05-01T13:58:47.400231Z"
    },
    "trusted": true
   },
   "outputs": [
    {
     "name": "stderr",
     "text": "2025-05-01 13:58:35.392272: E external/local_xla/xla/stream_executor/cuda/cuda_dnn.cc:9261] Unable to register cuDNN factory: Attempting to register factory for plugin cuDNN when one has already been registered\n2025-05-01 13:58:35.392447: E external/local_xla/xla/stream_executor/cuda/cuda_fft.cc:607] Unable to register cuFFT factory: Attempting to register factory for plugin cuFFT when one has already been registered\n2025-05-01 13:58:35.582355: E external/local_xla/xla/stream_executor/cuda/cuda_blas.cc:1515] Unable to register cuBLAS factory: Attempting to register factory for plugin cuBLAS when one has already been registered\n",
     "output_type": "stream"
    }
   ],
   "execution_count": 2
  },
  {
   "cell_type": "markdown",
   "source": "# we test the which layer weights are different",
   "metadata": {}
  },
  {
   "cell_type": "code",
   "source": "def _get_model_Eff():\n    hidden_size = 128\n    output_size = 64\n    num_classes = 7\n    unet = ImageEffNet(output_size, num_classes)\n    return unet\nimport torch\n\n# Assuming model1 and model2 are the two EfficientNet-B0 models\ndef compare_models(model1, model2):\n    differences = []\n    \n    # Iterate over both models' named parameters\n    for (name1, param1), (name2, param2) in zip(model1.named_parameters(), model2.named_parameters()):\n        # Check if the parameter names are the same\n        if name1 != name2:\n            raise ValueError(f\"Layer mismatch: {name1} != {name2}\")\n        \n        # Compare the weights\n        if not torch.equal(param1, param2):\n            differences.append(name1)\n    \n    return differences\n\n",
   "metadata": {
    "execution": {
     "iopub.status.busy": "2025-05-01T13:58:47.403338Z",
     "iopub.execute_input": "2025-05-01T13:58:47.404169Z",
     "iopub.status.idle": "2025-05-01T13:58:47.412042Z",
     "shell.execute_reply.started": "2025-05-01T13:58:47.404116Z",
     "shell.execute_reply": "2025-05-01T13:58:47.410825Z"
    },
    "trusted": true
   },
   "outputs": [],
   "execution_count": 3
  },
  {
   "cell_type": "code",
   "source": "model2 = _get_model_Eff()  # Load or initialize the second EfficientNet-B0 model\nmodel_path= '/kaggle/input/retrain-model/retrain_eff_combine_model_tune1.pt'\nmodel2.load_state_dict(torch.load(model_path, map_location='cpu')) # ",
   "metadata": {
    "trusted": true,
    "execution": {
     "iopub.status.busy": "2025-05-01T13:59:10.319989Z",
     "iopub.execute_input": "2025-05-01T13:59:10.320357Z",
     "iopub.status.idle": "2025-05-01T13:59:11.071381Z",
     "shell.execute_reply.started": "2025-05-01T13:59:10.320324Z",
     "shell.execute_reply": "2025-05-01T13:59:11.070139Z"
    }
   },
   "outputs": [
    {
     "name": "stderr",
     "text": "Downloading: \"https://download.pytorch.org/models/efficientnet_b0_rwightman-7f5810bc.pth\" to /root/.cache/torch/hub/checkpoints/efficientnet_b0_rwightman-7f5810bc.pth\n100%|██████████| 20.5M/20.5M [00:00<00:00, 112MB/s] \n",
     "output_type": "stream"
    },
    {
     "execution_count": 4,
     "output_type": "execute_result",
     "data": {
      "text/plain": "<All keys matched successfully>"
     },
     "metadata": {}
    }
   ],
   "execution_count": 4
  },
  {
   "cell_type": "code",
   "source": "model2.net.classifier[1]",
   "metadata": {
    "trusted": true,
    "execution": {
     "iopub.status.busy": "2025-05-01T13:59:28.284372Z",
     "iopub.execute_input": "2025-05-01T13:59:28.284792Z",
     "iopub.status.idle": "2025-05-01T13:59:28.292666Z",
     "shell.execute_reply.started": "2025-05-01T13:59:28.284753Z",
     "shell.execute_reply": "2025-05-01T13:59:28.291438Z"
    }
   },
   "outputs": [
    {
     "execution_count": 5,
     "output_type": "execute_result",
     "data": {
      "text/plain": "Linear(in_features=1280, out_features=64, bias=True)"
     },
     "metadata": {}
    }
   ],
   "execution_count": 5
  },
  {
   "cell_type": "code",
   "source": "# Example usage:\nmodel1 = ...  # Load or initialize the first EfficientNet-B0 model\n\nmodel1 = _get_model_Eff()\nmodel_path= '/kaggle/input/tunedmodel/eff_combine_model_tune.pt'\nmodel1.load_state_dict(torch.load(model_path, map_location='cpu')) # \n\nmodel2 = _get_model_Eff()  # Load or initialize the second EfficientNet-B0 model\nmodel_path= '/kaggle/input/retrain-model/retrain_eff_combine_model_tune1.pt'\nmodel2.load_state_dict(torch.load(model_path, map_location='cpu')) # \n\n# Get list of layers with different weights\ndifferent_layers = compare_models(model1, model2)\n\nif different_layers:\n    print(f\"Layers with different weights: {different_layers}\")\nelse:\n    print(\"All layers have the same weights.\")\n",
   "metadata": {
    "execution": {
     "iopub.status.busy": "2024-10-20T05:40:27.769013Z",
     "iopub.execute_input": "2024-10-20T05:40:27.769414Z",
     "iopub.status.idle": "2024-10-20T05:40:29.480318Z",
     "shell.execute_reply.started": "2024-10-20T05:40:27.769381Z",
     "shell.execute_reply": "2024-10-20T05:40:29.478663Z"
    },
    "trusted": true
   },
   "outputs": [
    {
     "name": "stderr",
     "text": "Downloading: \"https://download.pytorch.org/models/efficientnet_b0_rwightman-7f5810bc.pth\" to /root/.cache/torch/hub/checkpoints/efficientnet_b0_rwightman-7f5810bc.pth\n100%|██████████| 20.5M/20.5M [00:00<00:00, 99.6MB/s]\n",
     "output_type": "stream"
    },
    {
     "name": "stdout",
     "text": "Layers with different weights: ['net.features.1.0.block.0.0.weight', 'net.features.1.0.block.0.1.weight', 'net.features.1.0.block.0.1.bias', 'net.features.1.0.block.1.fc1.weight', 'net.features.1.0.block.1.fc1.bias', 'net.features.1.0.block.1.fc2.weight', 'net.features.1.0.block.1.fc2.bias', 'net.features.1.0.block.2.0.weight', 'net.features.1.0.block.2.1.weight', 'net.features.1.0.block.2.1.bias']\n",
     "output_type": "stream"
    }
   ],
   "execution_count": 5
  },
  {
   "cell_type": "markdown",
   "source": "# first we tested the untrained model",
   "metadata": {}
  },
  {
   "cell_type": "code",
   "source": "def _get_model_Eff():\n    hidden_size = 128\n    output_size = 64\n    num_classes = 7\n    unet = ImageEffNet(output_size, num_classes)\n    return unet\n\n\n# def _get_model_res():\n#     hidden_size = 128\n#     output_size = 64\n#     num_classes = 7\n#     unet = ImageResnet(output_size, num_classes)\n\n#     return unet",
   "metadata": {
    "execution": {
     "iopub.status.busy": "2024-10-20T13:33:39.236510Z",
     "iopub.execute_input": "2024-10-20T13:33:39.236766Z",
     "iopub.status.idle": "2024-10-20T13:33:39.262516Z",
     "shell.execute_reply.started": "2024-10-20T13:33:39.236743Z",
     "shell.execute_reply": "2024-10-20T13:33:39.261497Z"
    },
    "trusted": true
   },
   "outputs": [],
   "execution_count": 8
  },
  {
   "cell_type": "code",
   "source": "train_df, val_df, test_df = _get_df_data_()",
   "metadata": {
    "execution": {
     "iopub.status.busy": "2024-10-20T13:33:39.264244Z",
     "iopub.execute_input": "2024-10-20T13:33:39.264572Z",
     "iopub.status.idle": "2024-10-20T13:35:57.223429Z",
     "shell.execute_reply.started": "2024-10-20T13:33:39.264547Z",
     "shell.execute_reply": "2024-10-20T13:35:57.222454Z"
    },
    "trusted": true
   },
   "outputs": [],
   "execution_count": 9
  },
  {
   "cell_type": "code",
   "source": "",
   "metadata": {},
   "outputs": [],
   "execution_count": null
  },
  {
   "cell_type": "code",
   "source": "print(train_df.shape)\nprint(val_df.shape)\nprint(test_df.shape)\nprint(train_df.shape[0] + val_df.shape[0]+ test_df.shape[0])\nprint(train_df.shape[0]/ (train_df.shape[0] + val_df.shape[0]+ test_df.shape[0]))\nprint( val_df.shape[0]/ (train_df.shape[0] + val_df.shape[0]+ test_df.shape[0]))\n\ndef retrain_perform():\n    BATCH_SIZE = 32\n    from torch.utils.data import DataLoader, WeightedRandomSampler\n    from collections import Counter\n    # Compute class weights for imbalanced dataset\n    class_counts = Counter([label for label in train_df['cell_type_idx']])\n    class_weights = {class_id: 1.0 / count for class_id, count in class_counts.items()}\n    sample_weights = [class_weights[label] for label in train_df['cell_type_idx']]\n    sampler = WeightedRandomSampler(sample_weights, num_samples=len(sample_weights), replacement=True)\n\n\n    image_source = '/kaggle/input/skin-cancer-mnist-ham10000/'\n    train_data = dataMedicalImage(train_df, image_folder= image_source, transform=transform_train)\n    val_data = dataMedicalImage(val_df,image_folder= image_source,  transform=transform_val)\n    test_data = dataMedicalImage(test_df, image_folder= image_source, transform=transform_val)\n    \n    # Data loaders\n    trainloader = DataLoader(dataset=train_data, batch_size=BATCH_SIZE, sampler=sampler)\n    valloader = DataLoader(val_data, batch_size=BATCH_SIZE, shuffle=False)\n    testloader = DataLoader(test_data, batch_size=BATCH_SIZE, shuffle=False)\n\n    print(f\"Total number of batches in Train Loader: {len(trainloader)}\")\n    print(f\"Total number of batches in Val Loader: {len(valloader)}\")\n\n    model2 = _get_model_Eff()  # Load or initialize the second EfficientNet-B0 model\n    model_path= '/kaggle/input/retrain-model/retrain_eff_combine_model_tune1.pt'\n    model2.load_state_dict(torch.load(model_path)) #, map_location='cpu'\n    \n    test_model(model2, testloader)\nretrain_perform()",
   "metadata": {
    "execution": {
     "iopub.status.busy": "2024-10-20T05:53:46.621359Z",
     "iopub.execute_input": "2024-10-20T05:53:46.622246Z",
     "iopub.status.idle": "2024-10-20T05:53:49.683984Z",
     "shell.execute_reply.started": "2024-10-20T05:53:46.622214Z",
     "shell.execute_reply": "2024-10-20T05:53:49.683077Z"
    },
    "trusted": true
   },
   "outputs": [
    {
     "name": "stdout",
     "text": "(5229, 11)\n(1120, 11)\n(1121, 11)\n7470\n0.7\n0.1499330655957162\nTotal number of batches in Train Loader: 164\nTotal number of batches in Val Loader: 35\nCurrent accuracy is: 87.24%\nClassification Report:\n               precision    recall  f1-score   support\n\n          nv       0.62      0.71      0.66        34\n         mel       0.84      0.88      0.86        49\n         bkl       0.70      0.71      0.70       109\n         bcc       0.56      0.45      0.50        11\n       akiec       0.95      0.93      0.94       811\n        vasc       0.61      0.62      0.61        92\n          df       0.65      1.00      0.79        15\n\n    accuracy                           0.87      1121\n   macro avg       0.70      0.76      0.72      1121\nweighted avg       0.88      0.87      0.87      1121\n\nConfusion Matrix:\n [[ 24   0   5   0   2   2   1]\n [  2  43   1   0   2   0   1]\n [  5   3  77   2  14   8   0]\n [  2   1   1   5   1   0   1]\n [  3   2  18   0 757  27   4]\n [  3   2   8   2  19  57   1]\n [  0   0   0   0   0   0  15]]\n",
     "output_type": "stream"
    }
   ],
   "execution_count": 13
  },
  {
   "cell_type": "code",
   "source": "class dataMedicalImage(Dataset):\n    def __init__(self, dataframe, image_folder=None, transform=None):\n        self.dataframe = dataframe\n        self.folder = image_folder\n        self.transform = transform # already used on df-image creation process\n\n    def __len__(self):\n        return len(self.dataframe)\n\n    def __getitem__(self, idx):\n        image = self.dataframe.iloc[idx]['image']\n        label = self.dataframe.iloc[idx]['cell_type_idx']  # Assuming the label is in the second column\n        \n        return image, int(label)",
   "metadata": {
    "execution": {
     "iopub.status.busy": "2024-10-20T13:36:02.317783Z",
     "iopub.execute_input": "2024-10-20T13:36:02.318655Z",
     "iopub.status.idle": "2024-10-20T13:36:02.324586Z",
     "shell.execute_reply.started": "2024-10-20T13:36:02.318620Z",
     "shell.execute_reply": "2024-10-20T13:36:02.323643Z"
    },
    "trusted": true
   },
   "outputs": [],
   "execution_count": 10
  },
  {
   "cell_type": "code",
   "source": "device = torch.device(\"cuda\" if torch.cuda.is_available() else \"cpu\")\ndef test_model(model, data_loader, class_names = lesion_type_dict.keys()):\n    model.eval()\n    model.to(device)\n    all_labels = []\n    all_predictions = []\n\n    with torch.no_grad():\n        for images, labels in data_loader:\n            images = images.to(device)\n            labels = labels.to(device)\n            outputs = model(images)\n            _, predicted = torch.max(outputs, 1)\n            all_labels.extend(labels.cpu().numpy())\n            all_predictions.extend(predicted.cpu().numpy())\n\n    # Calculate accuracy\n    acc = 100 * sum(np.array(all_predictions) == np.array(all_labels)) / len(all_labels)\n    print('Current accuracy is: {:.2f}%'.format(acc))\n\n    # Generate classification report\n    report = classification_report(all_labels, all_predictions, target_names=class_names)\n    print(\"Classification Report:\\n\", report)\n\n    # Generate confusion matrix\n    cm = confusion_matrix(all_labels, all_predictions)\n    print(\"Confusion Matrix:\\n\", cm)\n\n    # # Plot confusion matrix\n#     plt.figure(figsize=(10, 7))\n#     sns.heatmap(cm, annot=True, fmt='d', xticklabels=class_names, yticklabels=class_names)\n#     plt.xlabel('Predicted')\n#     plt.ylabel('True')\n#     plt.title('Confusion Matrix')\n#     plt.show()\n\n    return acc\ndevice = torch.device(\"cuda\" if torch.cuda.is_available() else \"cpu\")\n# Training function\ndef train_model(model, dataloader, criterion, optimizer, num_epochs):\n    for epoch in range(num_epochs):\n        model.train()\n        running_loss = 0.0\n        for images, label in dataloader:\n            optimizer.zero_grad()\n            images = images.to(device)\n            label = label.to(device)\n            outputs = model(images)\n            loss = criterion(outputs, label)\n            loss.backward()\n            optimizer.step()\n            running_loss += loss.item()\n\n        epoch_loss = running_loss / len(dataloader)\n        print(f\"Epoch {epoch}/{num_epochs - 1}, Loss: {epoch_loss}\")\n\n    return model\n\n\n# Function to evaluate the model\ndef eval_model(model, data_loader):\n    total, correct = 0, 0\n    model.eval()\n\n    with torch.no_grad():\n        for images, labels in data_loader:\n            images = images.to(device)\n            labels = labels.to(device)\n            outputs = model(images)\n            _, predicted = torch.max(outputs, 1)\n            total += labels.size(0)\n            correct += (predicted == labels).sum().item()\n        acc = 100 * correct / total\n    print('current accuracy is ', acc)\n    return acc",
   "metadata": {
    "execution": {
     "iopub.status.busy": "2024-10-20T13:36:04.082677Z",
     "iopub.execute_input": "2024-10-20T13:36:04.083055Z",
     "iopub.status.idle": "2024-10-20T13:36:04.151514Z",
     "shell.execute_reply.started": "2024-10-20T13:36:04.083026Z",
     "shell.execute_reply": "2024-10-20T13:36:04.150605Z"
    },
    "trusted": true
   },
   "outputs": [],
   "execution_count": 11
  },
  {
   "cell_type": "markdown",
   "source": "",
   "metadata": {}
  },
  {
   "cell_type": "markdown",
   "source": "# this is retrain this old model",
   "metadata": {}
  },
  {
   "cell_type": "code",
   "source": "def main_eff_retrain(model = None, name='test', r_laye= 1):\n    # Hyperparameters\n    num_epochs_mlp = 1\n    num_epochs_total = 10  # Total epochs including both MLP and U-Net\n    learning_rate = 0.001\n    BATCH_SIZE = 32\n\n    # Now you can train the model on your dataset\n    model = model.to('cuda' if torch.cuda.is_available() else 'cpu')\n    # Loss and optimizer\n    criterion = nn.CrossEntropyLoss()\n#   this is for tune only, 1 and 2, the follows is only tune \n#     optimizer = optim.Adam(model.net.features[r_laye].parameters(), lr=1e-4)\n    optimizer = optim.Adam(model.parameters(), lr=1e-4)\n#     optimizer = optim.Adam(\n#     list(model.net.features[1].parameters()) + list(model.net.features[2].parameters()), \n#     lr=1e-4)\n    \n    from torch.utils.data import DataLoader, WeightedRandomSampler\n    from collections import Counter\n    # Compute class weights for imbalanced dataset\n    class_counts = Counter([label for label in train_df['cell_type_idx']])\n    class_weights = {class_id: 1.0 / count for class_id, count in class_counts.items()}\n    sample_weights = [class_weights[label] for label in train_df['cell_type_idx']]\n    sampler = WeightedRandomSampler(sample_weights, num_samples=len(sample_weights), replacement=True)\n\n\n    image_source = '/kaggle/input/skin-cancer-mnist-ham10000/'\n    train_data = dataMedicalImage(train_df, image_folder= image_source, transform=transform_train)\n    val_data = dataMedicalImage(val_df,image_folder= image_source,  transform=transform_val)\n    test_data = dataMedicalImage(test_df, image_folder= image_source, transform=transform_val)\n    \n    # Data loaders\n    trainloader = DataLoader(dataset=train_data, batch_size=BATCH_SIZE, sampler=sampler)\n    valloader = DataLoader(val_data, batch_size=BATCH_SIZE, shuffle=False)\n    testloader = DataLoader(test_data, batch_size=BATCH_SIZE, shuffle=False)\n\n    print(f\"Total number of batches in Train Loader: {len(trainloader)}\")\n    print(f\"Total number of batches in Val Loader: {len(valloader)}\")\n\n    best_model = None\n    accf = 0\n    test_model(model, testloader)\n    \n    for epoch in range(0, num_epochs_total, 1):\n        # Train MLP for 10 epochs\n        model = train_model(model, trainloader, criterion, optimizer, num_epochs_mlp)\n\n        acc = eval_model(model, valloader)\n        if acc > accf:\n            accf = acc\n            best_model = model\n            torch.save(best_model.state_dict(), 'retrain_eff_old_model_'+name+'.pt')\n    test_model(best_model, testloader)\n    ",
   "metadata": {
    "execution": {
     "iopub.status.busy": "2024-10-20T13:44:09.459707Z",
     "iopub.execute_input": "2024-10-20T13:44:09.460563Z",
     "iopub.status.idle": "2024-10-20T13:44:09.473426Z",
     "shell.execute_reply.started": "2024-10-20T13:44:09.460528Z",
     "shell.execute_reply": "2024-10-20T13:44:09.472353Z"
    },
    "trusted": true
   },
   "outputs": [],
   "execution_count": 17
  },
  {
   "cell_type": "code",
   "source": "def retrain_model_eff(name='', layid = 1):\n    model_eff = _get_model_Eff()\n    # retune the first one\n    model_path= '/kaggle/input/tunedmodel/eff_combine_model_tune.pt'\n    model_eff.load_state_dict(torch.load(model_path)) # , map_location='cpu'\n\n    # Freeze all parameters\n    for param in model_eff.net.parameters():\n        param.requires_grad = False\n\n    # Unfreeze only the parameters of the specific layer you want to tune\n    for param in model_eff.net.features[layid].parameters():\n        param.requires_grad = True\n    \n    main_eff_retrain(model = model_eff, name=('model_eff1'+name), r_laye= layid)",
   "metadata": {
    "execution": {
     "iopub.status.busy": "2024-10-20T13:36:17.090794Z",
     "iopub.execute_input": "2024-10-20T13:36:17.091173Z",
     "iopub.status.idle": "2024-10-20T13:36:17.098045Z",
     "shell.execute_reply.started": "2024-10-20T13:36:17.091146Z",
     "shell.execute_reply": "2024-10-20T13:36:17.096855Z"
    },
    "trusted": true
   },
   "outputs": [],
   "execution_count": 13
  },
  {
   "cell_type": "code",
   "source": "def retrain_model_all(name='', layid = 1):\n    model_eff = _get_model_Eff()\n    # retune the first one\n    main_eff_retrain(model = model_eff, name=('model_eff1'+name), r_laye= layid)\n     \nimport time\nstart_time = time.time()\n\nretrain_model_all(name='', layid = 1)  \nprint(\"--- %s seconds ---\" % (time.time() - start_time))",
   "metadata": {
    "execution": {
     "iopub.status.busy": "2024-10-20T13:44:18.012454Z",
     "iopub.execute_input": "2024-10-20T13:44:18.012791Z",
     "iopub.status.idle": "2024-10-20T13:50:04.145128Z",
     "shell.execute_reply.started": "2024-10-20T13:44:18.012764Z",
     "shell.execute_reply": "2024-10-20T13:50:04.144232Z"
    },
    "trusted": true
   },
   "outputs": [
    {
     "name": "stdout",
     "text": "Total number of batches in Train Loader: 164\nTotal number of batches in Val Loader: 35\nCurrent accuracy is: 2.32%\nClassification Report:\n               precision    recall  f1-score   support\n\n          nv       0.02      0.12      0.04        34\n         mel       0.00      0.00      0.00        49\n         bkl       0.00      0.00      0.00       109\n         bcc       0.00      0.00      0.00        11\n       akiec       0.00      0.00      0.00       811\n        vasc       0.09      0.11      0.10        92\n          df       0.01      0.80      0.03        15\n\n    accuracy                           0.02      1121\n   macro avg       0.02      0.15      0.02      1121\nweighted avg       0.01      0.02      0.01      1121\n\nConfusion Matrix:\n [[  4   0   0   0   0   2  28]\n [  5   0   0   0   0   0  44]\n [ 12   1   0   0   0   4  92]\n [  0   0   0   0   0   1  10]\n [134   2   1   0   0  91 583]\n [  8   0   0   0   0  10  74]\n [  3   0   0   0   0   0  12]]\n",
     "output_type": "stream"
    },
    {
     "name": "stderr",
     "text": "/opt/conda/lib/python3.10/site-packages/sklearn/metrics/_classification.py:1344: UndefinedMetricWarning: Precision and F-score are ill-defined and being set to 0.0 in labels with no predicted samples. Use `zero_division` parameter to control this behavior.\n  _warn_prf(average, modifier, msg_start, len(result))\n/opt/conda/lib/python3.10/site-packages/sklearn/metrics/_classification.py:1344: UndefinedMetricWarning: Precision and F-score are ill-defined and being set to 0.0 in labels with no predicted samples. Use `zero_division` parameter to control this behavior.\n  _warn_prf(average, modifier, msg_start, len(result))\n/opt/conda/lib/python3.10/site-packages/sklearn/metrics/_classification.py:1344: UndefinedMetricWarning: Precision and F-score are ill-defined and being set to 0.0 in labels with no predicted samples. Use `zero_division` parameter to control this behavior.\n  _warn_prf(average, modifier, msg_start, len(result))\n",
     "output_type": "stream"
    },
    {
     "name": "stdout",
     "text": "Epoch 0/0, Loss: 1.044206932368802\ncurrent accuracy is  72.94642857142857\nEpoch 0/0, Loss: 0.32953269161829135\ncurrent accuracy is  79.28571428571429\nEpoch 0/0, Loss: 0.20519960405895624\ncurrent accuracy is  79.46428571428571\nEpoch 0/0, Loss: 0.13409958372642172\ncurrent accuracy is  82.32142857142857\nEpoch 0/0, Loss: 0.10121991558045876\ncurrent accuracy is  83.39285714285714\nEpoch 0/0, Loss: 0.09114196706313367\ncurrent accuracy is  84.375\nEpoch 0/0, Loss: 0.06972247411826307\ncurrent accuracy is  85.0\nEpoch 0/0, Loss: 0.05906176533856679\ncurrent accuracy is  86.33928571428571\nEpoch 0/0, Loss: 0.04261758338898511\ncurrent accuracy is  86.33928571428571\nEpoch 0/0, Loss: 0.05412322893119758\ncurrent accuracy is  86.33928571428571\nCurrent accuracy is: 86.53%\nClassification Report:\n               precision    recall  f1-score   support\n\n          nv       0.78      0.41      0.54        34\n         mel       0.80      0.80      0.80        49\n         bkl       0.74      0.64      0.69       109\n         bcc       0.70      0.64      0.67        11\n       akiec       0.93      0.95      0.94       811\n        vasc       0.52      0.60      0.56        92\n          df       0.69      0.73      0.71        15\n\n    accuracy                           0.87      1121\n   macro avg       0.74      0.68      0.70      1121\nweighted avg       0.87      0.87      0.86      1121\n\nConfusion Matrix:\n [[ 14   1  10   1   2   6   0]\n [  2  39   0   0   5   1   2]\n [  1   4  70   0  19  15   0]\n [  0   2   0   7   2   0   0]\n [  0   2   5   0 774  28   2]\n [  1   1  10   2  22  55   1]\n [  0   0   0   0   4   0  11]]\n--- 346.1270389556885 seconds ---\n",
     "output_type": "stream"
    }
   ],
   "execution_count": 18
  },
  {
   "cell_type": "markdown",
   "source": "test time",
   "metadata": {}
  },
  {
   "cell_type": "markdown",
   "source": "",
   "metadata": {}
  },
  {
   "cell_type": "markdown",
   "source": "october 20",
   "metadata": {}
  },
  {
   "cell_type": "code",
   "source": "",
   "metadata": {},
   "outputs": [],
   "execution_count": null
  },
  {
   "cell_type": "markdown",
   "source": "CALCULATE TIME",
   "metadata": {}
  },
  {
   "cell_type": "code",
   "source": "",
   "metadata": {},
   "outputs": [],
   "execution_count": null
  },
  {
   "cell_type": "code",
   "source": "",
   "metadata": {},
   "outputs": [],
   "execution_count": null
  },
  {
   "cell_type": "markdown",
   "source": "this is results",
   "metadata": {}
  },
  {
   "cell_type": "markdown",
   "source": "87.24 + 86.17  + 86.26+85.99+87.15+86.98+86.80+86.62+86.44",
   "metadata": {}
  },
  {
   "cell_type": "markdown",
   "source": "change model, fixed all other layers and set free only on one layer",
   "metadata": {}
  },
  {
   "cell_type": "markdown",
   "source": "model load and change",
   "metadata": {}
  },
  {
   "cell_type": "markdown",
   "source": "# effnet retrain--",
   "metadata": {}
  },
  {
   "cell_type": "code",
   "source": "def main_eff_retrain(model = None, name='test', r_laye= 1):\n    # Hyperparameters\n    num_epochs_mlp = 1\n    num_epochs_total = 10  # Total epochs including both MLP and U-Net\n    learning_rate = 0.001\n    BATCH_SIZE = 32\n\n    # Now you can train the model on your dataset\n    model = model.to('cuda' if torch.cuda.is_available() else 'cpu')\n    # Loss and optimizer\n    criterion = nn.CrossEntropyLoss()\n#   this is for tune only, 1 and 2, the follows is only tune \n    optimizer = optim.Adam(model.net.features[r_laye].parameters(), lr=1e-4)\n#     optimizer = optim.Adam(\n#     list(model.net.features[1].parameters()) + list(model.net.features[2].parameters()), \n#     lr=1e-4)\n    \n    from torch.utils.data import DataLoader, WeightedRandomSampler\n    from collections import Counter\n    # Compute class weights for imbalanced dataset\n    class_counts = Counter([label for label in train_df['cell_type_idx']])\n    class_weights = {class_id: 1.0 / count for class_id, count in class_counts.items()}\n    sample_weights = [class_weights[label] for label in train_df['cell_type_idx']]\n    sampler = WeightedRandomSampler(sample_weights, num_samples=len(sample_weights), replacement=True)\n\n\n    image_source = '/kaggle/input/skin-cancer-mnist-ham10000/'\n    train_data = dataMedicalImage(train_df, image_folder= image_source, transform=transform_train)\n    val_data = dataMedicalImage(val_df,image_folder= image_source,  transform=transform_val)\n    test_data = dataMedicalImage(test_df, image_folder= image_source, transform=transform_val)\n    \n    # Data loaders\n    trainloader = DataLoader(dataset=train_data, batch_size=BATCH_SIZE, sampler=sampler)\n    valloader = DataLoader(val_data, batch_size=BATCH_SIZE, shuffle=False)\n    testloader = DataLoader(test_data, batch_size=BATCH_SIZE, shuffle=False)\n\n    print(f\"Total number of batches in Train Loader: {len(trainloader)}\")\n    print(f\"Total number of batches in Val Loader: {len(valloader)}\")\n\n    best_model = None\n    accf = 0\n    test_model(model, testloader)\n    \n    for epoch in range(0, num_epochs_total, 1):\n        # Train MLP for 10 epochs\n        model = train_model(model, trainloader, criterion, optimizer, num_epochs_mlp)\n\n        acc = eval_model(model, valloader)\n        if acc > accf:\n            accf = acc\n            best_model = model\n            torch.save(best_model.state_dict(), 'retrain_eff_model_'+name+'.pt')\n    test_model(best_model, testloader)\n    ",
   "metadata": {
    "execution": {
     "iopub.status.busy": "2024-09-27T18:54:31.239671Z",
     "iopub.execute_input": "2024-09-27T18:54:31.240198Z",
     "iopub.status.idle": "2024-09-27T18:54:31.251856Z",
     "shell.execute_reply.started": "2024-09-27T18:54:31.240168Z",
     "shell.execute_reply": "2024-09-27T18:54:31.250887Z"
    },
    "trusted": true
   },
   "outputs": [],
   "execution_count": 15
  },
  {
   "cell_type": "markdown",
   "source": "start retrain",
   "metadata": {}
  },
  {
   "cell_type": "code",
   "source": "def retrain_model_eff(name='', layid = 1):\n    model_eff = _get_model_Eff()\n    # retune the first one\n    model_path= '/kaggle/input/retrainedmodelsep27/firsttrain_eff_model_f1v1.pt'\n    model_eff.load_state_dict(torch.load(model_path)) # , map_location='cpu'\n\n    # Freeze all parameters\n    for param in model_eff.net.parameters():\n        param.requires_grad = False\n\n    # Unfreeze only the parameters of the specific layer you want to tune\n    for param in model_eff.net.features[layid].parameters():\n        param.requires_grad = True\n    \n    main_eff_retrain(model = model_eff, name=('model_eff1'+name), r_laye= layid)",
   "metadata": {
    "execution": {
     "iopub.status.busy": "2024-09-27T18:54:40.117335Z",
     "iopub.execute_input": "2024-09-27T18:54:40.118172Z",
     "iopub.status.idle": "2024-09-27T18:54:40.126739Z",
     "shell.execute_reply.started": "2024-09-27T18:54:40.118129Z",
     "shell.execute_reply": "2024-09-27T18:54:40.125667Z"
    },
    "trusted": true
   },
   "outputs": [],
   "execution_count": 16
  },
  {
   "cell_type": "code",
   "source": "retrain_model_eff(name='v1', layid = 1)",
   "metadata": {
    "execution": {
     "iopub.status.busy": "2024-09-27T12:42:30.394187Z",
     "iopub.execute_input": "2024-09-27T12:42:30.395077Z",
     "iopub.status.idle": "2024-09-27T12:45:42.663751Z",
     "shell.execute_reply.started": "2024-09-27T12:42:30.395031Z",
     "shell.execute_reply": "2024-09-27T12:45:42.662793Z"
    },
    "collapsed": true,
    "jupyter": {
     "outputs_hidden": true
    },
    "trusted": true
   },
   "outputs": [
    {
     "name": "stdout",
     "text": "Total number of batches in Train Loader: 164\nTotal number of batches in Val Loader: 35\nCurrent accuracy is: 85.99%\nClassification Report:\n               precision    recall  f1-score   support\n\n          nv       0.78      0.53      0.63        34\n         mel       0.83      0.80      0.81        49\n         bkl       0.60      0.80      0.68       109\n         bcc       0.67      0.55      0.60        11\n       akiec       0.95      0.92      0.94       811\n        vasc       0.54      0.54      0.54        92\n          df       0.93      0.93      0.93        15\n\n    accuracy                           0.86      1121\n   macro avg       0.76      0.72      0.73      1121\nweighted avg       0.87      0.86      0.86      1121\n\nConfusion Matrix:\n [[ 18   0  11   0   4   1   0]\n [  2  39   4   1   3   0   0]\n [  2   3  87   0   8   9   0]\n [  0   2   1   6   1   1   0]\n [  0   1  27   1 750  32   0]\n [  1   2  16   0  22  50   1]\n [  0   0   0   1   0   0  14]]\nEpoch 0/0, Loss: 0.19048132279478922\ncurrent accuracy is  85.26785714285714\nEpoch 0/0, Loss: 0.181995705054028\ncurrent accuracy is  84.73214285714286\nEpoch 0/0, Loss: 0.18495557807022478\ncurrent accuracy is  85.80357142857143\nEpoch 0/0, Loss: 0.1960702133932855\ncurrent accuracy is  84.64285714285714\nEpoch 0/0, Loss: 0.1830150356130084\ncurrent accuracy is  84.64285714285714\nEpoch 0/0, Loss: 0.19093699392113017\ncurrent accuracy is  85.08928571428571\nEpoch 0/0, Loss: 0.18530852082980478\ncurrent accuracy is  84.82142857142857\nEpoch 0/0, Loss: 0.17162578696067013\ncurrent accuracy is  85.17857142857143\nEpoch 0/0, Loss: 0.17656731021749536\ncurrent accuracy is  84.375\nEpoch 0/0, Loss: 0.18257765111899593\ncurrent accuracy is  84.73214285714286\nCurrent accuracy is: 85.28%\nClassification Report:\n               precision    recall  f1-score   support\n\n          nv       0.70      0.62      0.66        34\n         mel       0.80      0.80      0.80        49\n         bkl       0.62      0.74      0.68       109\n         bcc       0.71      0.45      0.56        11\n       akiec       0.96      0.91      0.93       811\n        vasc       0.50      0.63      0.56        92\n          df       0.79      1.00      0.88        15\n\n    accuracy                           0.85      1121\n   macro avg       0.73      0.74      0.72      1121\nweighted avg       0.87      0.85      0.86      1121\n\nConfusion Matrix:\n [[ 21   0   9   0   2   2   0]\n [  3  39   3   1   3   0   0]\n [  3   4  81   0  10  11   0]\n [  0   2   2   5   1   1   0]\n [  0   2  25   1 737  43   3]\n [  3   2  10   0  18  58   1]\n [  0   0   0   0   0   0  15]]\n",
     "output_type": "stream"
    }
   ],
   "execution_count": 24
  },
  {
   "cell_type": "code",
   "source": "retrain_model_eff(name='v1', layid = 2)",
   "metadata": {
    "execution": {
     "iopub.status.busy": "2024-09-27T12:46:09.424665Z",
     "iopub.execute_input": "2024-09-27T12:46:09.425031Z",
     "iopub.status.idle": "2024-09-27T12:49:20.759292Z",
     "shell.execute_reply.started": "2024-09-27T12:46:09.425001Z",
     "shell.execute_reply": "2024-09-27T12:49:20.758410Z"
    },
    "collapsed": true,
    "jupyter": {
     "outputs_hidden": true
    },
    "trusted": true
   },
   "outputs": [
    {
     "name": "stdout",
     "text": "Total number of batches in Train Loader: 164\nTotal number of batches in Val Loader: 35\nCurrent accuracy is: 85.99%\nClassification Report:\n               precision    recall  f1-score   support\n\n          nv       0.78      0.53      0.63        34\n         mel       0.83      0.80      0.81        49\n         bkl       0.60      0.80      0.68       109\n         bcc       0.67      0.55      0.60        11\n       akiec       0.95      0.92      0.94       811\n        vasc       0.54      0.54      0.54        92\n          df       0.93      0.93      0.93        15\n\n    accuracy                           0.86      1121\n   macro avg       0.76      0.72      0.73      1121\nweighted avg       0.87      0.86      0.86      1121\n\nConfusion Matrix:\n [[ 18   0  11   0   4   1   0]\n [  2  39   4   1   3   0   0]\n [  2   3  87   0   8   9   0]\n [  0   2   1   6   1   1   0]\n [  0   1  27   1 750  32   0]\n [  1   2  16   0  22  50   1]\n [  0   0   0   1   0   0  14]]\nEpoch 0/0, Loss: 0.18054940127881197\ncurrent accuracy is  85.53571428571429\nEpoch 0/0, Loss: 0.169950297550957\ncurrent accuracy is  85.625\nEpoch 0/0, Loss: 0.14895185513035736\ncurrent accuracy is  85.0\nEpoch 0/0, Loss: 0.13993065483958983\ncurrent accuracy is  85.0\nEpoch 0/0, Loss: 0.14562806000978482\ncurrent accuracy is  85.35714285714286\nEpoch 0/0, Loss: 0.13231268793730655\ncurrent accuracy is  85.98214285714286\nEpoch 0/0, Loss: 0.1363349253902348\ncurrent accuracy is  85.17857142857143\nEpoch 0/0, Loss: 0.1301438960462536\ncurrent accuracy is  85.17857142857143\nEpoch 0/0, Loss: 0.12751994553169735\ncurrent accuracy is  85.35714285714286\nEpoch 0/0, Loss: 0.12490725648453141\ncurrent accuracy is  85.35714285714286\nCurrent accuracy is: 86.17%\nClassification Report:\n               precision    recall  f1-score   support\n\n          nv       0.67      0.53      0.59        34\n         mel       0.80      0.84      0.82        49\n         bkl       0.66      0.78      0.71       109\n         bcc       0.60      0.55      0.57        11\n       akiec       0.96      0.91      0.94       811\n        vasc       0.52      0.66      0.58        92\n          df       0.79      1.00      0.88        15\n\n    accuracy                           0.86      1121\n   macro avg       0.71      0.75      0.73      1121\nweighted avg       0.88      0.86      0.87      1121\n\nConfusion Matrix:\n [[ 18   0  10   1   2   3   0]\n [  2  41   1   1   3   1   0]\n [  3   3  85   1   6  11   0]\n [  0   2   1   6   1   1   0]\n [  1   3  23   1 740  41   2]\n [  3   2   9   0  15  61   2]\n [  0   0   0   0   0   0  15]]\n",
     "output_type": "stream"
    }
   ],
   "execution_count": 25
  },
  {
   "cell_type": "markdown",
   "source": "",
   "metadata": {}
  },
  {
   "cell_type": "code",
   "source": "print('this is layer 3')\nretrain_model_eff(name='v1', layid = 3)",
   "metadata": {
    "execution": {
     "iopub.status.busy": "2024-09-27T12:49:30.402038Z",
     "iopub.execute_input": "2024-09-27T12:49:30.402855Z",
     "iopub.status.idle": "2024-09-27T12:52:08.118472Z",
     "shell.execute_reply.started": "2024-09-27T12:49:30.402824Z",
     "shell.execute_reply": "2024-09-27T12:52:08.117586Z"
    },
    "collapsed": true,
    "jupyter": {
     "outputs_hidden": true
    },
    "trusted": true
   },
   "outputs": [
    {
     "name": "stdout",
     "text": "this is layer 3\nTotal number of batches in Train Loader: 164\nTotal number of batches in Val Loader: 35\nCurrent accuracy is: 85.99%\nClassification Report:\n               precision    recall  f1-score   support\n\n          nv       0.78      0.53      0.63        34\n         mel       0.83      0.80      0.81        49\n         bkl       0.60      0.80      0.68       109\n         bcc       0.67      0.55      0.60        11\n       akiec       0.95      0.92      0.94       811\n        vasc       0.54      0.54      0.54        92\n          df       0.93      0.93      0.93        15\n\n    accuracy                           0.86      1121\n   macro avg       0.76      0.72      0.73      1121\nweighted avg       0.87      0.86      0.86      1121\n\nConfusion Matrix:\n [[ 18   0  11   0   4   1   0]\n [  2  39   4   1   3   0   0]\n [  2   3  87   0   8   9   0]\n [  0   2   1   6   1   1   0]\n [  0   1  27   1 750  32   0]\n [  1   2  16   0  22  50   1]\n [  0   0   0   1   0   0  14]]\nEpoch 0/0, Loss: 0.19846481746403363\ncurrent accuracy is  85.35714285714286\nEpoch 0/0, Loss: 0.16333340563834076\ncurrent accuracy is  84.82142857142857\nEpoch 0/0, Loss: 0.14677276799353067\ncurrent accuracy is  85.71428571428571\nEpoch 0/0, Loss: 0.1302307501730577\ncurrent accuracy is  85.80357142857143\nEpoch 0/0, Loss: 0.1102763245438748\ncurrent accuracy is  84.73214285714286\nEpoch 0/0, Loss: 0.11481094812099799\ncurrent accuracy is  84.73214285714286\nEpoch 0/0, Loss: 0.11421104614259447\ncurrent accuracy is  85.26785714285714\nEpoch 0/0, Loss: 0.10510712838447767\ncurrent accuracy is  85.08928571428571\nEpoch 0/0, Loss: 0.11463299416369055\ncurrent accuracy is  85.0\nEpoch 0/0, Loss: 0.09507120596301719\ncurrent accuracy is  85.0\nCurrent accuracy is: 86.08%\nClassification Report:\n               precision    recall  f1-score   support\n\n          nv       0.77      0.50      0.61        34\n         mel       0.75      0.82      0.78        49\n         bkl       0.66      0.72      0.69       109\n         bcc       0.50      0.55      0.52        11\n       akiec       0.96      0.92      0.94       811\n        vasc       0.53      0.67      0.59        92\n          df       0.79      1.00      0.88        15\n\n    accuracy                           0.86      1121\n   macro avg       0.71      0.74      0.72      1121\nweighted avg       0.87      0.86      0.86      1121\n\nConfusion Matrix:\n [[ 17   2   9   2   0   4   0]\n [  2  40   3   1   3   0   0]\n [  1   4  79   2  10  13   0]\n [  0   1   2   6   1   1   0]\n [  0   4  20   1 746  38   2]\n [  2   2   7   0  17  62   2]\n [  0   0   0   0   0   0  15]]\n",
     "output_type": "stream"
    }
   ],
   "execution_count": 26
  },
  {
   "cell_type": "code",
   "source": [
    "print('this is layer 4')\n",
    "retrain_model_eff(name='v1', layid = 4)"
   ],
   "metadata": {
    "execution": {
     "iopub.status.busy": "2024-09-27T12:55:15.834963Z",
     "iopub.execute_input": "2024-09-27T12:55:15.835623Z",
     "iopub.status.idle": "2024-09-27T12:57:32.612279Z",
     "shell.execute_reply.started": "2024-09-27T12:55:15.835571Z",
     "shell.execute_reply": "2024-09-27T12:57:32.611392Z"
    },
    "collapsed": true,
    "jupyter": {
     "outputs_hidden": true
    },
    "trusted": true
   },
   "outputs": [
    {
     "name": "stdout",
     "text": "this is layer 3\nTotal number of batches in Train Loader: 164\nTotal number of batches in Val Loader: 35\nCurrent accuracy is: 85.99%\nClassification Report:\n               precision    recall  f1-score   support\n\n          nv       0.78      0.53      0.63        34\n         mel       0.83      0.80      0.81        49\n         bkl       0.60      0.80      0.68       109\n         bcc       0.67      0.55      0.60        11\n       akiec       0.95      0.92      0.94       811\n        vasc       0.54      0.54      0.54        92\n          df       0.93      0.93      0.93        15\n\n    accuracy                           0.86      1121\n   macro avg       0.76      0.72      0.73      1121\nweighted avg       0.87      0.86      0.86      1121\n\nConfusion Matrix:\n [[ 18   0  11   0   4   1   0]\n [  2  39   4   1   3   0   0]\n [  2   3  87   0   8   9   0]\n [  0   2   1   6   1   1   0]\n [  0   1  27   1 750  32   0]\n [  1   2  16   0  22  50   1]\n [  0   0   0   1   0   0  14]]\nEpoch 0/0, Loss: 0.1708666768703019\ncurrent accuracy is  84.82142857142857\nEpoch 0/0, Loss: 0.1334167865229907\ncurrent accuracy is  85.08928571428571\nEpoch 0/0, Loss: 0.11597217752302928\ncurrent accuracy is  85.35714285714286\nEpoch 0/0, Loss: 0.08600463002647568\ncurrent accuracy is  85.98214285714286\nEpoch 0/0, Loss: 0.08243576731964401\ncurrent accuracy is  85.35714285714286\nEpoch 0/0, Loss: 0.0804242716318496\ncurrent accuracy is  85.44642857142857\nEpoch 0/0, Loss: 0.08296977604239635\ncurrent accuracy is  85.35714285714286\nEpoch 0/0, Loss: 0.06783091837097323\ncurrent accuracy is  85.35714285714286\nEpoch 0/0, Loss: 0.0783280312714008\ncurrent accuracy is  85.80357142857143\nEpoch 0/0, Loss: 0.06559624178931345\ncurrent accuracy is  84.91071428571429\nCurrent accuracy is: 86.62%\nClassification Report:\n               precision    recall  f1-score   support\n\n          nv       0.75      0.62      0.68        34\n         mel       0.84      0.86      0.85        49\n         bkl       0.67      0.72      0.70       109\n         bcc       0.71      0.45      0.56        11\n       akiec       0.96      0.92      0.94       811\n        vasc       0.51      0.67      0.58        92\n          df       0.82      0.93      0.87        15\n\n    accuracy                           0.87      1121\n   macro avg       0.75      0.74      0.74      1121\nweighted avg       0.88      0.87      0.87      1121\n\nConfusion Matrix:\n [[ 21   0   8   0   0   5   0]\n [  3  42   1   1   2   0   0]\n [  1   4  79   0  11  14   0]\n [  1   1   2   5   0   2   0]\n [  2   2  18   1 748  39   1]\n [  0   1  10   0  17  62   2]\n [  0   0   0   0   1   0  14]]\n",
     "output_type": "stream"
    }
   ],
   "execution_count": 27
  },
  {
   "cell_type": "markdown",
   "source": "train on the second",
   "metadata": {}
  },
  {
   "cell_type": "code",
   "source": "",
   "metadata": {
    "execution": {
     "iopub.status.busy": "2024-08-16T08:48:29.479957Z",
     "iopub.execute_input": "2024-08-16T08:48:29.480899Z",
     "iopub.status.idle": "2024-08-16T08:48:29.489237Z",
     "shell.execute_reply.started": "2024-08-16T08:48:29.480853Z",
     "shell.execute_reply": "2024-08-16T08:48:29.488271Z"
    },
    "trusted": true
   },
   "outputs": [],
   "execution_count": 91
  },
  {
   "cell_type": "markdown",
   "source": "main_eff definition",
   "metadata": {}
  },
  {
   "cell_type": "markdown",
   "source": "# this is retrain reenet new models, ",
   "metadata": {}
  },
  {
   "cell_type": "code",
   "source": "def main_res_retrain(model=None, name='', layid = 1):\n    # Hyperparameters\n    num_epochs_mlp = 1\n    num_epochs_total = 10  # Total epochs including both MLP and U-Net\n    learning_rate = 0.001\n    BATCH_SIZE = 32\n    IMG_SIZE = 256\n\n    model = model.to('cuda' if torch.cuda.is_available() else 'cpu')\n\n    # Loss and optimizer\n    criterion = nn.CrossEntropyLoss()\n    optimizer = optim.Adam(model.net.layer1.parameters(), lr=1e-4)\n\n    from torch.utils.data import DataLoader, WeightedRandomSampler\n    from collections import Counter\n    # Compute class weights for imbalanced dataset\n    class_counts = Counter([label for label in train_df['cell_type_idx']])\n    class_weights = {class_id: 1.0 / count for class_id, count in class_counts.items()}\n    sample_weights = [class_weights[label] for label in train_df['cell_type_idx']]\n    sampler = WeightedRandomSampler(sample_weights, num_samples=len(sample_weights), replacement=True)\n\n\n    image_source = '/kaggle/input/skin-cancer-mnist-ham10000/'\n    train_data = dataMedicalImage(train_df, image_folder= image_source, transform=transform_train)\n    val_data = dataMedicalImage(val_df,image_folder= image_source,  transform=transform_val)\n    test_data = dataMedicalImage(test_df, image_folder= image_source, transform=transform_val)\n    \n    # Data loaders\n    trainloader = DataLoader(dataset=train_data, batch_size=BATCH_SIZE, sampler=sampler)\n    valloader = DataLoader(val_data, batch_size=BATCH_SIZE, shuffle=False)\n    testloader = DataLoader(test_data, batch_size=BATCH_SIZE, shuffle=False)\n\n    print(f\"Total number of batches in Train Loader: {len(trainloader)}\")\n    print(f\"Total number of batches in Val Loader: {len(valloader)}\")\n\n    best_model = None\n    accf = 0\n    print('first test original ')\n    test_model(model, testloader)\n    for epoch in range(0, num_epochs_total, 1):\n        # Train MLP for 10 epochs\n        model = train_model(model, trainloader, criterion, optimizer, num_epochs_mlp)\n\n        acc = eval_model(model, valloader)\n        if acc > accf:\n            accf = acc\n            best_model = model\n            torch.save(best_model.state_dict(), 'retrain_resnet_model_'+name+'.pt')\n\n    test_model(best_model, testloader)\n    \ndef retrain_model_res1(name='', layid = 1):\n    model_res = _get_model_res()\n    # retune the first one\n    model_path= '/kaggle/input/retrainedmodelsep27/firsttrain_resnet_model__f1v2.pt'\n    model_res.load_state_dict(torch.load(model_path)) # , map_location='cpu'\n\n    for param in model_res.net.parameters():\n        param.requires_grad = False\n    _nid = 'layer'+str(layid)\n    # Unfreeze only the parameters of the specific layer you want to tune\n    for param in model_res.net.layer1.parameters():\n        param.requires_grad = True\n    # Freeze all parameters\n    \n    main_res_retrain(model = model_res, name=('model_res1'+name), layid= layid)    ",
   "metadata": {
    "execution": {
     "iopub.status.busy": "2024-09-27T20:45:22.278346Z",
     "iopub.execute_input": "2024-09-27T20:45:22.279229Z",
     "iopub.status.idle": "2024-09-27T20:45:22.293983Z",
     "shell.execute_reply.started": "2024-09-27T20:45:22.279194Z",
     "shell.execute_reply": "2024-09-27T20:45:22.292920Z"
    },
    "trusted": true
   },
   "outputs": [],
   "execution_count": 51
  },
  {
   "cell_type": "code",
   "source": "",
   "metadata": {
    "execution": {
     "iopub.status.busy": "2024-09-27T20:29:30.249503Z",
     "iopub.execute_input": "2024-09-27T20:29:30.249875Z",
     "iopub.status.idle": "2024-09-27T20:29:30.256135Z",
     "shell.execute_reply.started": "2024-09-27T20:29:30.249846Z",
     "shell.execute_reply": "2024-09-27T20:29:30.255282Z"
    },
    "trusted": true
   },
   "outputs": [],
   "execution_count": 43
  },
  {
   "cell_type": "code",
   "source": "\nprint('this is v1 layer 1-1')\nretrain_model_res1(name='v1-L1-1', layid = 1)\nprint('this is v1 layer 1-2')\nretrain_model_res1(name='v1-L1-2', layid = 1)\nprint('this is v1 layer 1-3')\nretrain_model_res1(name='v1-L1-3', layid = 1)",
   "metadata": {
    "execution": {
     "iopub.status.busy": "2024-09-27T20:04:34.691762Z",
     "iopub.execute_input": "2024-09-27T20:04:34.692112Z",
     "iopub.status.idle": "2024-09-27T20:09:39.112860Z",
     "shell.execute_reply.started": "2024-09-27T20:04:34.692084Z",
     "shell.execute_reply": "2024-09-27T20:09:39.111923Z"
    },
    "collapsed": true,
    "jupyter": {
     "outputs_hidden": true
    },
    "trusted": true
   },
   "outputs": [
    {
     "name": "stdout",
     "text": "this is v1 layer 1-1\nTotal number of batches in Train Loader: 164\nTotal number of batches in Val Loader: 35\nfirst test original \nCurrent accuracy is: 81.45%\nClassification Report:\n               precision    recall  f1-score   support\n\n          nv       0.45      0.41      0.43        34\n         mel       0.71      0.65      0.68        49\n         bkl       0.54      0.67      0.60       109\n         bcc       0.83      0.45      0.59        11\n       akiec       0.91      0.91      0.91       811\n        vasc       0.44      0.38      0.41        92\n          df       0.92      0.80      0.86        15\n\n    accuracy                           0.81      1121\n   macro avg       0.69      0.61      0.64      1121\nweighted avg       0.82      0.81      0.81      1121\n\nConfusion Matrix:\n [[ 14   3   7   0   8   2   0]\n [  6  32   2   0   6   3   0]\n [  0   4  73   0  20  12   0]\n [  0   1   2   5   2   0   1]\n [  3   4  34   1 742  27   0]\n [  8   1  17   0  31  35   0]\n [  0   0   0   0   3   0  12]]\nEpoch 0/0, Loss: 0.8768145491073771\ncurrent accuracy is  78.57142857142857\nEpoch 0/0, Loss: 0.68278816242407\ncurrent accuracy is  77.85714285714286\nEpoch 0/0, Loss: 0.6045578874465896\ncurrent accuracy is  77.23214285714286\nEpoch 0/0, Loss: 0.4982129379925204\ncurrent accuracy is  76.25\nEpoch 0/0, Loss: 0.41353420195419616\ncurrent accuracy is  76.07142857142857\nEpoch 0/0, Loss: 0.38609926938647177\ncurrent accuracy is  75.80357142857143\nEpoch 0/0, Loss: 0.3394538963940449\ncurrent accuracy is  76.42857142857143\nEpoch 0/0, Loss: 0.3254095177597752\ncurrent accuracy is  76.60714285714286\nEpoch 0/0, Loss: 0.2911415483075671\ncurrent accuracy is  77.67857142857143\nEpoch 0/0, Loss: 0.2501160486873875\ncurrent accuracy is  77.41071428571429\nCurrent accuracy is: 77.61%\nClassification Report:\n               precision    recall  f1-score   support\n\n          nv       0.33      0.65      0.44        34\n         mel       0.59      0.78      0.67        49\n         bkl       0.52      0.60      0.55       109\n         bcc       0.56      0.45      0.50        11\n       akiec       0.94      0.85      0.89       811\n        vasc       0.37      0.45      0.41        92\n          df       0.86      0.80      0.83        15\n\n    accuracy                           0.78      1121\n   macro avg       0.59      0.65      0.61      1121\nweighted avg       0.81      0.78      0.79      1121\n\nConfusion Matrix:\n [[ 22   5   6   0   1   0   0]\n [  9  38   0   0   2   0   0]\n [  9   5  65   2  14  14   0]\n [  0   3   1   5   2   0   0]\n [ 17   9  40   2 687  55   1]\n [ 10   4  14   0  22  41   1]\n [  0   0   0   0   3   0  12]]\nthis is v1 layer 1-2\nTotal number of batches in Train Loader: 164\nTotal number of batches in Val Loader: 35\nfirst test original \nCurrent accuracy is: 81.45%\nClassification Report:\n               precision    recall  f1-score   support\n\n          nv       0.45      0.41      0.43        34\n         mel       0.71      0.65      0.68        49\n         bkl       0.54      0.67      0.60       109\n         bcc       0.83      0.45      0.59        11\n       akiec       0.91      0.91      0.91       811\n        vasc       0.44      0.38      0.41        92\n          df       0.92      0.80      0.86        15\n\n    accuracy                           0.81      1121\n   macro avg       0.69      0.61      0.64      1121\nweighted avg       0.82      0.81      0.81      1121\n\nConfusion Matrix:\n [[ 14   3   7   0   8   2   0]\n [  6  32   2   0   6   3   0]\n [  0   4  73   0  20  12   0]\n [  0   1   2   5   2   0   1]\n [  3   4  34   1 742  27   0]\n [  8   1  17   0  31  35   0]\n [  0   0   0   0   3   0  12]]\nEpoch 0/0, Loss: 0.8548455308305054\ncurrent accuracy is  78.03571428571429\nEpoch 0/0, Loss: 0.7040684008289401\ncurrent accuracy is  77.14285714285714\nEpoch 0/0, Loss: 0.5553701008420165\ncurrent accuracy is  77.41071428571429\nEpoch 0/0, Loss: 0.4749424060715771\ncurrent accuracy is  77.32142857142857\nEpoch 0/0, Loss: 0.39542529005102994\ncurrent accuracy is  77.58928571428571\nEpoch 0/0, Loss: 0.37006642907948756\ncurrent accuracy is  76.96428571428571\nEpoch 0/0, Loss: 0.3310547397222097\ncurrent accuracy is  77.58928571428571\nEpoch 0/0, Loss: 0.3064523556655863\ncurrent accuracy is  77.32142857142857\nEpoch 0/0, Loss: 0.30369710783678583\ncurrent accuracy is  77.67857142857143\nEpoch 0/0, Loss: 0.26095958544713693\ncurrent accuracy is  77.85714285714286\nCurrent accuracy is: 77.70%\nClassification Report:\n               precision    recall  f1-score   support\n\n          nv       0.37      0.65      0.47        34\n         mel       0.59      0.76      0.66        49\n         bkl       0.59      0.60      0.59       109\n         bcc       0.50      0.55      0.52        11\n       akiec       0.94      0.84      0.89       811\n        vasc       0.34      0.50      0.40        92\n          df       0.87      0.87      0.87        15\n\n    accuracy                           0.78      1121\n   macro avg       0.60      0.68      0.63      1121\nweighted avg       0.82      0.78      0.79      1121\n\nConfusion Matrix:\n [[ 22   4   4   0   3   1   0]\n [  9  37   0   0   2   1   0]\n [  7   3  65   3  13  18   0]\n [  0   2   1   6   2   0   0]\n [ 13  12  30   3 682  70   1]\n [  8   5  11   0  21  46   1]\n [  0   0   0   0   2   0  13]]\nthis is v1 layer 1-3\nTotal number of batches in Train Loader: 164\nTotal number of batches in Val Loader: 35\nfirst test original \nCurrent accuracy is: 81.45%\nClassification Report:\n               precision    recall  f1-score   support\n\n          nv       0.45      0.41      0.43        34\n         mel       0.71      0.65      0.68        49\n         bkl       0.54      0.67      0.60       109\n         bcc       0.83      0.45      0.59        11\n       akiec       0.91      0.91      0.91       811\n        vasc       0.44      0.38      0.41        92\n          df       0.92      0.80      0.86        15\n\n    accuracy                           0.81      1121\n   macro avg       0.69      0.61      0.64      1121\nweighted avg       0.82      0.81      0.81      1121\n\nConfusion Matrix:\n [[ 14   3   7   0   8   2   0]\n [  6  32   2   0   6   3   0]\n [  0   4  73   0  20  12   0]\n [  0   1   2   5   2   0   1]\n [  3   4  34   1 742  27   0]\n [  8   1  17   0  31  35   0]\n [  0   0   0   0   3   0  12]]\nEpoch 0/0, Loss: 0.8855482176309679\ncurrent accuracy is  78.03571428571429\nEpoch 0/0, Loss: 0.6747158278779286\ncurrent accuracy is  77.32142857142857\nEpoch 0/0, Loss: 0.5671917884269866\ncurrent accuracy is  76.42857142857143\nEpoch 0/0, Loss: 0.4851376723679828\ncurrent accuracy is  77.05357142857143\nEpoch 0/0, Loss: 0.42699975513557836\ncurrent accuracy is  76.07142857142857\nEpoch 0/0, Loss: 0.36048591107402633\ncurrent accuracy is  76.96428571428571\nEpoch 0/0, Loss: 0.341668749250835\ncurrent accuracy is  75.80357142857143\nEpoch 0/0, Loss: 0.3208387796426328\ncurrent accuracy is  76.25\nEpoch 0/0, Loss: 0.27701802599448255\ncurrent accuracy is  77.76785714285714\nEpoch 0/0, Loss: 0.2657364572103067\ncurrent accuracy is  76.78571428571429\nCurrent accuracy is: 77.07%\nClassification Report:\n               precision    recall  f1-score   support\n\n          nv       0.34      0.62      0.44        34\n         mel       0.55      0.80      0.65        49\n         bkl       0.53      0.62      0.57       109\n         bcc       0.50      0.55      0.52        11\n       akiec       0.94      0.84      0.89       811\n        vasc       0.35      0.43      0.39        92\n          df       0.86      0.80      0.83        15\n\n    accuracy                           0.77      1121\n   macro avg       0.58      0.66      0.61      1121\nweighted avg       0.81      0.77      0.79      1121\n\nConfusion Matrix:\n [[ 21   5   5   0   2   1   0]\n [  8  39   0   0   2   0   0]\n [  7   4  68   2  13  15   0]\n [  0   2   1   6   2   0   0]\n [ 17  15  39   3 678  58   1]\n [  8   6  15   0  22  40   1]\n [  0   0   0   1   2   0  12]]\n",
     "output_type": "stream"
    }
   ],
   "execution_count": 37
  },
  {
   "cell_type": "markdown",
   "source": "",
   "metadata": {}
  },
  {
   "cell_type": "code",
   "source": "",
   "metadata": {},
   "outputs": [],
   "execution_count": null
  },
  {
   "cell_type": "code",
   "source": "main_res(model=model, name='layer3')",
   "metadata": {
    "execution": {
     "iopub.status.busy": "2024-08-16T12:55:09.859832Z",
     "iopub.execute_input": "2024-08-16T12:55:09.860546Z",
     "iopub.status.idle": "2024-08-16T12:58:48.284573Z",
     "shell.execute_reply.started": "2024-08-16T12:55:09.860515Z",
     "shell.execute_reply": "2024-08-16T12:58:48.283505Z"
    },
    "collapsed": true,
    "jupyter": {
     "outputs_hidden": true
    },
    "trusted": true
   },
   "outputs": [
    {
     "name": "stdout",
     "text": "Total number of batches in Train Loader: 164\nTotal number of batches in Val Loader: 35\nfirst test original \nCurrent accuracy is: 85.82%\nClassification Report:\n               precision    recall  f1-score   support\n\n          nv       0.64      0.53      0.58        34\n         mel       0.76      0.76      0.76        49\n         bkl       0.69      0.69      0.69       109\n         bcc       1.00      0.36      0.53        11\n       akiec       0.91      0.96      0.94       811\n        vasc       0.58      0.41      0.48        92\n          df       0.85      0.73      0.79        15\n\n    accuracy                           0.86      1121\n   macro avg       0.78      0.63      0.68      1121\nweighted avg       0.85      0.86      0.85      1121\n\nConfusion Matrix:\n [[ 18   4   6   0   4   2   0]\n [  3  37   3   0   5   0   1]\n [  5   2  75   0  18   9   0]\n [  0   1   1   4   5   0   0]\n [  1   1  13   0 779  17   0]\n [  1   2  10   0  40  38   1]\n [  0   2   0   0   2   0  11]]\nEpoch 0/0, Loss: 0.20393525351338634\ncurrent accuracy is  81.96428571428571\nEpoch 0/0, Loss: 0.10251373455791575\ncurrent accuracy is  84.64285714285714\nEpoch 0/0, Loss: 0.06544169762012798\ncurrent accuracy is  82.94642857142857\nEpoch 0/0, Loss: 0.05018448428727868\ncurrent accuracy is  84.375\nEpoch 0/0, Loss: 0.035654407585176025\ncurrent accuracy is  85.17857142857143\nEpoch 0/0, Loss: 0.03641699224415167\ncurrent accuracy is  84.10714285714286\nEpoch 0/0, Loss: 0.02929881636746137\ncurrent accuracy is  85.08928571428571\nEpoch 0/0, Loss: 0.025471132268515845\ncurrent accuracy is  85.44642857142857\nEpoch 0/0, Loss: 0.020745139341892267\ncurrent accuracy is  84.64285714285714\nEpoch 0/0, Loss: 0.020628356777994735\ncurrent accuracy is  85.35714285714286\nCurrent accuracy is: 86.17%\nClassification Report:\n               precision    recall  f1-score   support\n\n          nv       0.59      0.38      0.46        34\n         mel       0.81      0.59      0.68        49\n         bkl       0.76      0.67      0.71       109\n         bcc       0.75      0.27      0.40        11\n       akiec       0.90      0.98      0.93       811\n        vasc       0.66      0.47      0.55        92\n          df       0.93      0.93      0.93        15\n\n    accuracy                           0.86      1121\n   macro avg       0.77      0.61      0.67      1121\nweighted avg       0.85      0.86      0.85      1121\n\nConfusion Matrix:\n [[ 13   3   5   1   9   3   0]\n [  3  29   2   0  13   1   1]\n [  4   1  73   0  22   9   0]\n [  1   0   2   3   5   0   0]\n [  0   1  10   0 791   9   0]\n [  1   2   4   0  42  43   0]\n [  0   0   0   0   1   0  14]]\n",
     "output_type": "stream"
    }
   ],
   "execution_count": 28
  },
  {
   "cell_type": "code",
   "source": "main_res(model=model, name='layer2')",
   "metadata": {
    "execution": {
     "iopub.status.busy": "2024-08-16T13:01:28.317315Z",
     "iopub.execute_input": "2024-08-16T13:01:28.318186Z",
     "iopub.status.idle": "2024-08-16T13:03:40.752593Z",
     "shell.execute_reply.started": "2024-08-16T13:01:28.318151Z",
     "shell.execute_reply": "2024-08-16T13:03:40.751568Z"
    },
    "collapsed": true,
    "jupyter": {
     "outputs_hidden": true
    },
    "trusted": true
   },
   "outputs": [
    {
     "name": "stdout",
     "text": "Total number of batches in Train Loader: 164\nTotal number of batches in Val Loader: 35\nfirst test original \nCurrent accuracy is: 85.82%\nClassification Report:\n               precision    recall  f1-score   support\n\n          nv       0.64      0.53      0.58        34\n         mel       0.76      0.76      0.76        49\n         bkl       0.69      0.69      0.69       109\n         bcc       1.00      0.36      0.53        11\n       akiec       0.91      0.96      0.94       811\n        vasc       0.58      0.41      0.48        92\n          df       0.85      0.73      0.79        15\n\n    accuracy                           0.86      1121\n   macro avg       0.78      0.63      0.68      1121\nweighted avg       0.85      0.86      0.85      1121\n\nConfusion Matrix:\n [[ 18   4   6   0   4   2   0]\n [  3  37   3   0   5   0   1]\n [  5   2  75   0  18   9   0]\n [  0   1   1   4   5   0   0]\n [  1   1  13   0 779  17   0]\n [  1   2  10   0  40  38   1]\n [  0   2   0   0   2   0  11]]\nEpoch 0/0, Loss: 0.24255221720966624\ncurrent accuracy is  81.96428571428571\nEpoch 0/0, Loss: 0.12878705983663477\ncurrent accuracy is  82.76785714285714\nEpoch 0/0, Loss: 0.09131931007567157\ncurrent accuracy is  82.05357142857143\nEpoch 0/0, Loss: 0.07957418364041098\ncurrent accuracy is  82.85714285714286\nEpoch 0/0, Loss: 0.05794037585487453\ncurrent accuracy is  84.10714285714286\nEpoch 0/0, Loss: 0.05708644933226269\ncurrent accuracy is  84.01785714285714\nEpoch 0/0, Loss: 0.049830125451723974\ncurrent accuracy is  84.375\nEpoch 0/0, Loss: 0.042921736535457215\ncurrent accuracy is  83.39285714285714\nEpoch 0/0, Loss: 0.04074266431966751\ncurrent accuracy is  84.19642857142857\nEpoch 0/0, Loss: 0.03941918510330341\ncurrent accuracy is  84.91071428571429\nCurrent accuracy is: 85.73%\nClassification Report:\n               precision    recall  f1-score   support\n\n          nv       0.51      0.74      0.60        34\n         mel       0.81      0.71      0.76        49\n         bkl       0.77      0.66      0.71       109\n         bcc       0.75      0.55      0.63        11\n       akiec       0.91      0.96      0.93       811\n        vasc       0.56      0.37      0.44        92\n          df       0.81      0.87      0.84        15\n\n    accuracy                           0.86      1121\n   macro avg       0.73      0.69      0.70      1121\nweighted avg       0.85      0.86      0.85      1121\n\nConfusion Matrix:\n [[ 25   1   3   1   3   1   0]\n [  6  35   0   1   6   1   0]\n [  9   0  72   0  20   8   0]\n [  1   0   1   6   3   0   0]\n [  4   2  11   0 776  17   1]\n [  4   3   6   0  43  34   2]\n [  0   2   0   0   0   0  13]]\n",
     "output_type": "stream"
    }
   ],
   "execution_count": 32
  },
  {
   "cell_type": "code",
   "source": "main_res(model=model, name='1and2')",
   "metadata": {
    "execution": {
     "iopub.status.busy": "2024-08-16T13:19:49.926110Z",
     "iopub.execute_input": "2024-08-16T13:19:49.926454Z",
     "iopub.status.idle": "2024-08-16T13:22:43.837066Z",
     "shell.execute_reply.started": "2024-08-16T13:19:49.926427Z",
     "shell.execute_reply": "2024-08-16T13:22:43.836028Z"
    },
    "collapsed": true,
    "jupyter": {
     "outputs_hidden": true
    },
    "trusted": true
   },
   "outputs": [
    {
     "name": "stdout",
     "text": "Total number of batches in Train Loader: 164\nTotal number of batches in Val Loader: 35\nfirst test original \nCurrent accuracy is: 85.82%\nClassification Report:\n               precision    recall  f1-score   support\n\n          nv       0.64      0.53      0.58        34\n         mel       0.76      0.76      0.76        49\n         bkl       0.69      0.69      0.69       109\n         bcc       1.00      0.36      0.53        11\n       akiec       0.91      0.96      0.94       811\n        vasc       0.58      0.41      0.48        92\n          df       0.85      0.73      0.79        15\n\n    accuracy                           0.86      1121\n   macro avg       0.78      0.63      0.68      1121\nweighted avg       0.85      0.86      0.85      1121\n\nConfusion Matrix:\n [[ 18   4   6   0   4   2   0]\n [  3  37   3   0   5   0   1]\n [  5   2  75   0  18   9   0]\n [  0   1   1   4   5   0   0]\n [  1   1  13   0 779  17   0]\n [  1   2  10   0  40  38   1]\n [  0   2   0   0   2   0  11]]\nEpoch 0/0, Loss: 0.2264026525407666\ncurrent accuracy is  80.98214285714286\nEpoch 0/0, Loss: 0.13033125671081064\ncurrent accuracy is  84.73214285714286\nEpoch 0/0, Loss: 0.0854362446769345\ncurrent accuracy is  84.55357142857143\nEpoch 0/0, Loss: 0.0768399083441714\ncurrent accuracy is  84.19642857142857\nEpoch 0/0, Loss: 0.056008025231521305\ncurrent accuracy is  84.82142857142857\nEpoch 0/0, Loss: 0.04846433977164873\ncurrent accuracy is  84.73214285714286\nEpoch 0/0, Loss: 0.046120446851113585\ncurrent accuracy is  84.82142857142857\nEpoch 0/0, Loss: 0.04543484545812556\ncurrent accuracy is  83.92857142857143\nEpoch 0/0, Loss: 0.041269350243255315\ncurrent accuracy is  84.375\nEpoch 0/0, Loss: 0.03694470733313299\ncurrent accuracy is  84.73214285714286\nCurrent accuracy is: 85.91%\nClassification Report:\n               precision    recall  f1-score   support\n\n          nv       0.57      0.76      0.65        34\n         mel       0.86      0.63      0.73        49\n         bkl       0.66      0.72      0.69       109\n         bcc       0.75      0.55      0.63        11\n       akiec       0.93      0.94      0.94       811\n        vasc       0.58      0.47      0.52        92\n          df       0.83      1.00      0.91        15\n\n    accuracy                           0.86      1121\n   macro avg       0.74      0.72      0.72      1121\nweighted avg       0.86      0.86      0.86      1121\n\nConfusion Matrix:\n [[ 26   1   5   0   1   1   0]\n [  5  31   5   0   7   1   0]\n [  7   1  78   2  15   6   0]\n [  1   0   1   6   3   0   0]\n [  4   1  18   0 764  23   1]\n [  3   2  11   0  31  43   2]\n [  0   0   0   0   0   0  15]]\n",
     "output_type": "stream"
    }
   ],
   "execution_count": 40
  },
  {
   "cell_type": "code",
   "source": "main_res(model=model, name='layer4')",
   "metadata": {
    "execution": {
     "iopub.status.busy": "2024-08-16T13:24:18.604541Z",
     "iopub.execute_input": "2024-08-16T13:24:18.605286Z",
     "iopub.status.idle": "2024-08-16T13:26:09.156557Z",
     "shell.execute_reply.started": "2024-08-16T13:24:18.605249Z",
     "shell.execute_reply": "2024-08-16T13:26:09.155589Z"
    },
    "collapsed": true,
    "jupyter": {
     "outputs_hidden": true
    },
    "trusted": true
   },
   "outputs": [
    {
     "name": "stdout",
     "text": "Total number of batches in Train Loader: 164\nTotal number of batches in Val Loader: 35\nfirst test original \nCurrent accuracy is: 85.82%\nClassification Report:\n               precision    recall  f1-score   support\n\n          nv       0.64      0.53      0.58        34\n         mel       0.76      0.76      0.76        49\n         bkl       0.69      0.69      0.69       109\n         bcc       1.00      0.36      0.53        11\n       akiec       0.91      0.96      0.94       811\n        vasc       0.58      0.41      0.48        92\n          df       0.85      0.73      0.79        15\n\n    accuracy                           0.86      1121\n   macro avg       0.78      0.63      0.68      1121\nweighted avg       0.85      0.86      0.85      1121\n\nConfusion Matrix:\n [[ 18   4   6   0   4   2   0]\n [  3  37   3   0   5   0   1]\n [  5   2  75   0  18   9   0]\n [  0   1   1   4   5   0   0]\n [  1   1  13   0 779  17   0]\n [  1   2  10   0  40  38   1]\n [  0   2   0   0   2   0  11]]\nEpoch 0/0, Loss: 0.20914420890962568\ncurrent accuracy is  83.03571428571429\nEpoch 0/0, Loss: 0.09174199153033154\ncurrent accuracy is  83.83928571428571\nEpoch 0/0, Loss: 0.050870264815053017\ncurrent accuracy is  84.28571428571429\nEpoch 0/0, Loss: 0.042309288713490455\ncurrent accuracy is  84.375\nEpoch 0/0, Loss: 0.02719708635165106\ncurrent accuracy is  84.82142857142857\nEpoch 0/0, Loss: 0.02754589630200005\ncurrent accuracy is  83.66071428571429\nEpoch 0/0, Loss: 0.01524151615917728\ncurrent accuracy is  84.91071428571429\nEpoch 0/0, Loss: 0.018585889373065496\ncurrent accuracy is  84.375\nEpoch 0/0, Loss: 0.014506082682268375\ncurrent accuracy is  84.55357142857143\nEpoch 0/0, Loss: 0.018767490289486353\ncurrent accuracy is  85.53571428571429\nCurrent accuracy is: 85.91%\nClassification Report:\n               precision    recall  f1-score   support\n\n          nv       0.62      0.44      0.52        34\n         mel       0.77      0.61      0.68        49\n         bkl       0.68      0.71      0.69       109\n         bcc       0.50      0.36      0.42        11\n       akiec       0.92      0.96      0.94       811\n        vasc       0.56      0.48      0.52        92\n          df       0.88      0.93      0.90        15\n\n    accuracy                           0.86      1121\n   macro avg       0.71      0.64      0.67      1121\nweighted avg       0.85      0.86      0.85      1121\n\nConfusion Matrix:\n [[ 15   4   8   2   4   1   0]\n [  3  30   5   0   8   2   1]\n [  5   0  77   1  16  10   0]\n [  0   1   1   4   4   1   0]\n [  1   1  10   0 779  20   0]\n [  0   2  12   1  32  44   1]\n [  0   1   0   0   0   0  14]]\n",
     "output_type": "stream"
    }
   ],
   "execution_count": 44
  },
  {
   "cell_type": "markdown",
   "source": "check the feature size",
   "metadata": {}
  },
  {
   "cell_type": "markdown",
   "source": "# model analysis by weightwatcher",
   "metadata": {}
  },
  {
   "cell_type": "markdown",
   "source": "[weightwatcher tool](https://github.com/CalculatedContent/WeightWatcher)",
   "metadata": {}
  },
  {
   "cell_type": "code",
   "source": "pip install weightwatcher",
   "metadata": {
    "execution": {
     "iopub.status.busy": "2024-10-04T08:44:19.059322Z",
     "iopub.execute_input": "2024-10-04T08:44:19.059699Z",
     "iopub.status.idle": "2024-10-04T08:44:34.884972Z",
     "shell.execute_reply.started": "2024-10-04T08:44:19.059668Z",
     "shell.execute_reply": "2024-10-04T08:44:34.883826Z"
    },
    "collapsed": true,
    "jupyter": {
     "outputs_hidden": true
    },
    "trusted": true
   },
   "outputs": [
    {
     "name": "stdout",
     "text": "Collecting weightwatcher\n  Downloading weightwatcher-0.7.5.5-py3-none-any.whl.metadata (26 kB)\nRequirement already satisfied: numpy in /opt/conda/lib/python3.10/site-packages (from weightwatcher) (1.26.4)\nRequirement already satisfied: pandas in /opt/conda/lib/python3.10/site-packages (from weightwatcher) (2.2.2)\nRequirement already satisfied: matplotlib in /opt/conda/lib/python3.10/site-packages (from weightwatcher) (3.7.5)\nRequirement already satisfied: matplotlib-inline in /opt/conda/lib/python3.10/site-packages (from weightwatcher) (0.1.6)\nCollecting powerlaw (from weightwatcher)\n  Downloading powerlaw-1.5-py3-none-any.whl.metadata (9.3 kB)\nRequirement already satisfied: scikit-learn in /opt/conda/lib/python3.10/site-packages (from weightwatcher) (1.2.2)\nRequirement already satisfied: safetensors in /opt/conda/lib/python3.10/site-packages (from weightwatcher) (0.4.3)\nRequirement already satisfied: tqdm in /opt/conda/lib/python3.10/site-packages (from weightwatcher) (4.66.4)\nRequirement already satisfied: contourpy>=1.0.1 in /opt/conda/lib/python3.10/site-packages (from matplotlib->weightwatcher) (1.2.0)\nRequirement already satisfied: cycler>=0.10 in /opt/conda/lib/python3.10/site-packages (from matplotlib->weightwatcher) (0.12.1)\nRequirement already satisfied: fonttools>=4.22.0 in /opt/conda/lib/python3.10/site-packages (from matplotlib->weightwatcher) (4.47.0)\nRequirement already satisfied: kiwisolver>=1.0.1 in /opt/conda/lib/python3.10/site-packages (from matplotlib->weightwatcher) (1.4.5)\nRequirement already satisfied: packaging>=20.0 in /opt/conda/lib/python3.10/site-packages (from matplotlib->weightwatcher) (21.3)\nRequirement already satisfied: pillow>=6.2.0 in /opt/conda/lib/python3.10/site-packages (from matplotlib->weightwatcher) (9.5.0)\nRequirement already satisfied: pyparsing>=2.3.1 in /opt/conda/lib/python3.10/site-packages (from matplotlib->weightwatcher) (3.1.1)\nRequirement already satisfied: python-dateutil>=2.7 in /opt/conda/lib/python3.10/site-packages (from matplotlib->weightwatcher) (2.9.0.post0)\nRequirement already satisfied: traitlets in /opt/conda/lib/python3.10/site-packages (from matplotlib-inline->weightwatcher) (5.9.0)\nRequirement already satisfied: pytz>=2020.1 in /opt/conda/lib/python3.10/site-packages (from pandas->weightwatcher) (2023.3.post1)\nRequirement already satisfied: tzdata>=2022.7 in /opt/conda/lib/python3.10/site-packages (from pandas->weightwatcher) (2023.4)\nRequirement already satisfied: scipy in /opt/conda/lib/python3.10/site-packages (from powerlaw->weightwatcher) (1.11.4)\nRequirement already satisfied: mpmath in /opt/conda/lib/python3.10/site-packages (from powerlaw->weightwatcher) (1.3.0)\nRequirement already satisfied: joblib>=1.1.1 in /opt/conda/lib/python3.10/site-packages (from scikit-learn->weightwatcher) (1.4.2)\nRequirement already satisfied: threadpoolctl>=2.0.0 in /opt/conda/lib/python3.10/site-packages (from scikit-learn->weightwatcher) (3.2.0)\nRequirement already satisfied: six>=1.5 in /opt/conda/lib/python3.10/site-packages (from python-dateutil>=2.7->matplotlib->weightwatcher) (1.16.0)\nDownloading weightwatcher-0.7.5.5-py3-none-any.whl (81 kB)\n\u001B[2K   \u001B[90m━━━━━━━━━━━━━━━━━━━━━━━━━━━━━━━━━━━━━━━━\u001B[0m \u001B[32m81.9/81.9 kB\u001B[0m \u001B[31m1.7 MB/s\u001B[0m eta \u001B[36m0:00:00\u001B[0ma \u001B[36m0:00:01\u001B[0m\n\u001B[?25hDownloading powerlaw-1.5-py3-none-any.whl (24 kB)\nInstalling collected packages: powerlaw, weightwatcher\nSuccessfully installed powerlaw-1.5 weightwatcher-0.7.5.5\nNote: you may need to restart the kernel to use updated packages.\n",
     "output_type": "stream"
    }
   ],
   "execution_count": 1
  },
  {
   "cell_type": "code",
   "source": "import torch\nimport torch.nn as nn\nimport torchvision\nfrom torchvision import models\nimport weightwatcher as ww\nimport torchvision.models as models\n\n\n# Define the MLP\nfrom torchvision.models import ResNet18_Weights\nfrom transformers import ViTForImageClassification, ViTFeatureExtractor\n\nclass ImageEffNet(nn.Module):\n    def __init__(self, output_size, num_classes):\n        super(ImageEffNet, self).__init__()\n        self.net = models.efficientnet_b0(weights='DEFAULT')\n        self.net.classifier[1] = nn.Linear(self.net.classifier[1].in_features, output_size)\n        self.fc = nn.Linear(output_size, num_classes)\n\n    def forward(self, x):\n        x = self.net(x)\n        x = self.fc(x)\n        return x\n    \nclass ImageResnet(nn.Module):\n    def __init__(self,  output_size, num_classes):\n        super(ImageResnet, self).__init__()\n        self.net = models.resnet18(weights=ResNet18_Weights.IMAGENET1K_V1)\n        # Modify the last layer to output 7 classes\n         #2048\n        num_features = self.net.fc.in_features\n        self.net.fc = nn.Linear(num_features, output_size)\n        self.fc = nn.Linear(output_size, num_classes)\n\n    def forward(self, x):\n        x = self.net(x)\n        x = self.fc(x)\n        return x",
   "metadata": {
    "execution": {
     "iopub.status.busy": "2024-10-04T08:44:39.567034Z",
     "iopub.execute_input": "2024-10-04T08:44:39.568004Z",
     "iopub.status.idle": "2024-10-04T08:45:00.818234Z",
     "shell.execute_reply.started": "2024-10-04T08:44:39.567966Z",
     "shell.execute_reply": "2024-10-04T08:45:00.817366Z"
    },
    "trusted": true
   },
   "outputs": [
    {
     "name": "stderr",
     "text": "2024-10-04 08:44:50.011760: E external/local_xla/xla/stream_executor/cuda/cuda_dnn.cc:9261] Unable to register cuDNN factory: Attempting to register factory for plugin cuDNN when one has already been registered\n2024-10-04 08:44:50.011950: E external/local_xla/xla/stream_executor/cuda/cuda_fft.cc:607] Unable to register cuFFT factory: Attempting to register factory for plugin cuFFT when one has already been registered\n2024-10-04 08:44:50.192875: E external/local_xla/xla/stream_executor/cuda/cuda_blas.cc:1515] Unable to register cuBLAS factory: Attempting to register factory for plugin cuBLAS when one has already been registered\n",
     "output_type": "stream"
    }
   ],
   "execution_count": 2
  },
  {
   "cell_type": "code",
   "source": "def _get_model_Eff():\n    hidden_size = 128\n    output_size = 64\n    num_classes = 7\n    unet = ImageEffNet(output_size, num_classes)\n    # get the fine tune one-time model to see which layer is well-tuned or not\n    model_path= '/kaggle/input/tunedmodel/eff_combine_model_tune.pt'\n    unet.load_state_dict(torch.load(model_path, map_location='cpu')) # , map_location='cpu'\n    return unet\n\n\ndef _get_model_res():\n    hidden_size = 128\n    output_size = 64\n    num_classes = 7\n    model = ImageResnet(output_size, num_classes)\n    #  get the fine tune one-time model to see which layer is well-tuned or not\n    model_path= '/kaggle/input/tunedmodel/res_combine_model_tune.pt'\n    model.load_state_dict(torch.load(model_path, map_location='cpu')) # \n    return model",
   "metadata": {
    "execution": {
     "iopub.status.busy": "2024-10-04T08:45:02.116630Z",
     "iopub.execute_input": "2024-10-04T08:45:02.117652Z",
     "iopub.status.idle": "2024-10-04T08:45:02.123865Z",
     "shell.execute_reply.started": "2024-10-04T08:45:02.117616Z",
     "shell.execute_reply": "2024-10-04T08:45:02.122838Z"
    },
    "trusted": true
   },
   "outputs": [],
   "execution_count": 3
  },
  {
   "cell_type": "markdown",
   "source": "",
   "metadata": {}
  },
  {
   "cell_type": "code",
   "source": "def eff_analyze():\n    model_eff = _get_model_Eff()\n    watcher = ww.WeightWatcher(model=model_eff)\n#     details = watcher.analyze()\n    details = watcher.analyze(ww2x=True, randomize=True, mp_fit=True, min_evals=10)\n    summary = watcher.get_summary(details)\n    return summary, details\n\ndef res_analyze():\n    model_res = _get_model_res()\n    watcher = ww.WeightWatcher(model=model_res)\n#     details = watcher.analyze()\n    details = watcher.analyze(ww2x=True, randomize=True, mp_fit=True, min_evals=10)\n    summary = watcher.get_summary(details)\n    return summary,details",
   "metadata": {
    "execution": {
     "iopub.status.busy": "2024-10-04T08:45:04.644976Z",
     "iopub.execute_input": "2024-10-04T08:45:04.645688Z",
     "iopub.status.idle": "2024-10-04T08:45:04.654313Z",
     "shell.execute_reply.started": "2024-10-04T08:45:04.645644Z",
     "shell.execute_reply": "2024-10-04T08:45:04.653395Z"
    },
    "trusted": true
   },
   "outputs": [],
   "execution_count": 4
  },
  {
   "cell_type": "code",
   "source": "",
   "metadata": {
    "execution": {
     "iopub.status.busy": "2024-10-03T12:39:14.845099Z",
     "iopub.execute_input": "2024-10-03T12:39:14.845459Z",
     "iopub.status.idle": "2024-10-03T12:39:16.239986Z",
     "shell.execute_reply.started": "2024-10-03T12:39:14.845420Z",
     "shell.execute_reply": "2024-10-03T12:39:16.238998Z"
    },
    "trusted": true
   },
   "outputs": [],
   "execution_count": 12
  },
  {
   "cell_type": "code",
   "source": "sum_eff, del_eff = eff_analyze()\ndel_eff.to_csv('details_eff.csv')\nsum_res, del_res = res_analyze()\ndel_res.to_csv('details_res.csv')\ndel_res_1 = del_res[['longname', 'alpha', 'rank_loss', 'status', 'warning']]\ndel_eff_1 = del_eff[['longname', 'alpha', 'rank_loss', 'status', 'warning']]\ndel_eff_1.to_csv('eff_selected_detail.csv')\ndel_res_1.to_csv('res_selected_detail.csv')",
   "metadata": {
    "execution": {
     "iopub.status.busy": "2024-10-04T08:45:06.903792Z",
     "iopub.execute_input": "2024-10-04T08:45:06.904717Z",
     "iopub.status.idle": "2024-10-04T08:52:42.358331Z",
     "shell.execute_reply.started": "2024-10-04T08:45:06.904683Z",
     "shell.execute_reply": "2024-10-04T08:52:42.357510Z"
    },
    "trusted": true
   },
   "outputs": [
    {
     "name": "stderr",
     "text": "Downloading: \"https://download.pytorch.org/models/efficientnet_b0_rwightman-7f5810bc.pth\" to /root/.cache/torch/hub/checkpoints/efficientnet_b0_rwightman-7f5810bc.pth\n100%|██████████| 20.5M/20.5M [00:00<00:00, 108MB/s] \nDownloading: \"https://download.pytorch.org/models/resnet18-f37072fd.pth\" to /root/.cache/torch/hub/checkpoints/resnet18-f37072fd.pth\n100%|██████████| 44.7M/44.7M [00:00<00:00, 142MB/s] \n",
     "output_type": "stream"
    }
   ],
   "execution_count": 5
  },
  {
   "cell_type": "code",
   "source": "",
   "metadata": {},
   "outputs": [],
   "execution_count": null
  },
  {
   "cell_type": "code",
   "source": "import matplotlib.pyplot as plt\nparams = {'legend.fontsize': 'x-large',\n          'figure.figsize': (6, 4),\n         'axes.labelsize': 'x-large',\n         'axes.titlesize':'x-large',\n         'xtick.labelsize':'x-large',\n         'ytick.labelsize':'x-large'}\nplt.rcParams.update(params)",
   "metadata": {
    "execution": {
     "iopub.status.busy": "2024-10-04T08:53:07.696655Z",
     "iopub.execute_input": "2024-10-04T08:53:07.697334Z",
     "iopub.status.idle": "2024-10-04T08:53:07.702283Z",
     "shell.execute_reply.started": "2024-10-04T08:53:07.697300Z",
     "shell.execute_reply": "2024-10-04T08:53:07.701245Z"
    },
    "trusted": true
   },
   "outputs": [],
   "execution_count": 8
  },
  {
   "cell_type": "code",
   "source": "del_eff.alpha.plot.hist(bins=4, title='Efficientnet ($M_{s2}$)')\nplt.xlabel(\"weightwatcher layer quality metric alpha\")\nplt.axvline(x=2.0, color='red')\nplt.axvline(x=6.0, color='orange')\nplt.savefig('effnet.alpha.png',bbox_inches='tight', dpi=150)",
   "metadata": {
    "execution": {
     "iopub.status.busy": "2024-10-04T08:54:58.411349Z",
     "iopub.execute_input": "2024-10-04T08:54:58.411778Z",
     "iopub.status.idle": "2024-10-04T08:54:58.961516Z",
     "shell.execute_reply.started": "2024-10-04T08:54:58.411746Z",
     "shell.execute_reply": "2024-10-04T08:54:58.960727Z"
    },
    "trusted": true
   },
   "outputs": [
    {
     "output_type": "display_data",
     "data": {
      "text/plain": "<Figure size 600x400 with 1 Axes>",
      "image/png": "[encoded data removed]"
     },
     "metadata": {}
    }
   ],
   "execution_count": 10
  },
  {
   "cell_type": "code",
   "source": "sum_res, del_res = res_analyze()\ndel_res.to_csv('details_res.csv')\nsum_res",
   "metadata": {
    "execution": {
     "iopub.status.busy": "2024-10-03T12:41:25.646272Z",
     "iopub.execute_input": "2024-10-03T12:41:25.646648Z",
     "iopub.status.idle": "2024-10-03T12:41:30.404571Z",
     "shell.execute_reply.started": "2024-10-03T12:41:25.646617Z",
     "shell.execute_reply": "2024-10-03T12:41:30.403635Z"
    },
    "trusted": true
   },
   "outputs": [
    {
     "name": "stderr",
     "text": "Downloading: \"https://download.pytorch.org/models/resnet18-f37072fd.pth\" to /root/.cache/torch/hub/checkpoints/resnet18-f37072fd.pth\n100%|██████████| 44.7M/44.7M [00:00<00:00, 152MB/s] \n",
     "output_type": "stream"
    },
    {
     "execution_count": 20,
     "output_type": "execute_result",
     "data": {
      "text/plain": "{'log_norm': 1.9124785038192829,\n 'alpha': 3.469104554459105,\n 'alpha_weighted': 0.4716515893343965,\n 'log_alpha_norm': 1.1314091215888757,\n 'log_spectral_norm': 0.17500931433254005,\n 'stable_rank': 77.82423289564538}"
     },
     "metadata": {}
    }
   ],
   "execution_count": 20
  },
  {
   "cell_type": "code",
   "source": "del_res.alpha.plot.hist(bins=4, title='Resnet18 ($M_{s2}$)')\nplt.xlabel(\"weightwatcher layer quality metric alpha\")\nplt.axvline(x=2.0, color='red')\nplt.axvline(x=6.0, color='orange')\nplt.savefig('resnet.alpha.png',bbox_inches='tight', dpi=150)",
   "metadata": {
    "execution": {
     "iopub.status.busy": "2024-10-04T08:55:28.107952Z",
     "iopub.execute_input": "2024-10-04T08:55:28.108617Z",
     "iopub.status.idle": "2024-10-04T08:55:28.672497Z",
     "shell.execute_reply.started": "2024-10-04T08:55:28.108582Z",
     "shell.execute_reply": "2024-10-04T08:55:28.671443Z"
    },
    "trusted": true
   },
   "outputs": [
    {
     "output_type": "display_data",
     "data": {
      "text/plain": "<Figure size 600x400 with 1 Axes>",
      "image/png": "[encoded data removed]"
     },
     "metadata": {}
    }
   ],
   "execution_count": 11
  },
  {
   "cell_type": "code",
   "source": "",
   "metadata": {
    "execution": {
     "iopub.status.busy": "2024-10-03T13:06:28.171756Z",
     "iopub.execute_input": "2024-10-03T13:06:28.174876Z",
     "iopub.status.idle": "2024-10-03T13:06:28.180306Z",
     "shell.execute_reply.started": "2024-10-03T13:06:28.174842Z",
     "shell.execute_reply": "2024-10-03T13:06:28.179416Z"
    },
    "trusted": true
   },
   "outputs": [],
   "execution_count": 28
  },
  {
   "cell_type": "code",
   "source": "del_res_1 = del_res[['longname', 'alpha', 'rank_loss', 'status', 'warning']]\ndel_eff_1 = del_eff[['longname', 'alpha', 'rank_loss', 'status', 'warning']]\ndel_eff_1.to_csv('eff_selected_detail.csv')\ndel_res_1.to_csv('res_selected_detail.csv')",
   "metadata": {
    "execution": {
     "iopub.status.busy": "2024-10-03T13:07:23.974603Z",
     "iopub.execute_input": "2024-10-03T13:07:23.975330Z",
     "iopub.status.idle": "2024-10-03T13:07:23.984658Z",
     "shell.execute_reply.started": "2024-10-03T13:07:23.975288Z",
     "shell.execute_reply": "2024-10-03T13:07:23.983673Z"
    },
    "trusted": true
   },
   "outputs": [],
   "execution_count": 29
  },
  {
   "cell_type": "markdown",
   "source": "# this is to use weightwatcher to tuned models",
   "metadata": {}
  },
  {
   "cell_type": "code",
   "source": "def retrain_model_eff1(name='', layid = 1):\n    model_eff = _get_model_Eff()\n    model_1 = _get_model_Eff()\n    # retune the first one\n    model_path= '/kaggle/input/tunedmodel/eff_combine_model_tune.pt'\n    model_eff.load_state_dict(torch.load(model_path)) # , map_location='cpu'\n    model_eff = change_parameters(model_1, model_eff)\n       \n    main_eff_retrain(model = model_eff, name=('model_eff1'+name), r_laye= layid)",
   "metadata": {
    "execution": {
     "iopub.status.busy": "2024-10-04T13:18:03.630790Z",
     "iopub.execute_input": "2024-10-04T13:18:03.631374Z",
     "iopub.status.idle": "2024-10-04T13:18:03.636600Z",
     "shell.execute_reply.started": "2024-10-04T13:18:03.631342Z",
     "shell.execute_reply": "2024-10-04T13:18:03.635686Z"
    },
    "trusted": true
   },
   "outputs": [],
   "execution_count": 13
  },
  {
   "cell_type": "code",
   "source": "\ndef retrain_model_eff(name='', layid = 1):\n    model1 =  _get_model_Eff()\n    # Load model2 with custom weights\n    model2 =  _get_model_Eff()  # Initialize with no pre-trained weights\n    model2.load_state_dict(torch.load('/kaggle/input/tunedmodel/eff_combine_model_tune.pt'))\n\n    # Freeze all parameters\n    for param in model2.net.parameters():\n        param.requires_grad = False\n        \n    model2 = change_parameters(model1, model2)\n    \n    # Collect parameters to tune (those from under-trained layers)\n    params_to_tune = []\n\n    for layer_name, status in layer_replacement_info.items():\n            # Helper function to get submodule by name\n        def get_submodule_by_name(model, name):\n            for n, m in model.named_modules():\n                if n == name:\n                    return m\n            return None\n        # Get the submodule from model2\n        layer_model2 = get_submodule_by_name(model2, layer_name) \n        # Collect the parameters from the layer\n        if layer_model2 is not None:\n            params_to_tune += list(layer_model2.parameters())\n            \n        layer_model2 = get_submodule_by_name(model2, layer_name)\n        for param in layer_model2.parameters():\n             param.requires_grad = True\n#     print(params_to_tune)\n    main_eff_retrain(model = model2, name=('model_eff1'+name), params_to_tune=params_to_tune)\n",
   "metadata": {
    "execution": {
     "iopub.status.busy": "2024-10-04T13:18:01.840012Z",
     "iopub.execute_input": "2024-10-04T13:18:01.840817Z",
     "iopub.status.idle": "2024-10-04T13:18:01.850969Z",
     "shell.execute_reply.started": "2024-10-04T13:18:01.840778Z",
     "shell.execute_reply": "2024-10-04T13:18:01.849756Z"
    },
    "trusted": true
   },
   "outputs": [],
   "execution_count": 12
  },
  {
   "cell_type": "code",
   "source": "retrain_model_eff(name='watcher', layid = 3)",
   "metadata": {
    "collapsed": true,
    "jupyter": {
     "outputs_hidden": true
    },
    "trusted": true
   },
   "outputs": [
    {
     "name": "stdout",
     "text": "Total number of batches in Train Loader: 164\nTotal number of batches in Val Loader: 35\nCurrent accuracy is: 85.91%\nClassification Report:\n               precision    recall  f1-score   support\n\n          nv       0.65      0.65      0.65        34\n         mel       0.86      0.86      0.86        49\n         bkl       0.68      0.73      0.70       109\n         bcc       1.00      0.27      0.43        11\n       akiec       0.96      0.91      0.93       811\n        vasc       0.48      0.67      0.56        92\n          df       0.83      1.00      0.91        15\n\n    accuracy                           0.86      1121\n   macro avg       0.78      0.73      0.72      1121\nweighted avg       0.88      0.86      0.86      1121\n\nConfusion Matrix:\n [[ 22   0   6   0   1   5   0]\n [  3  42   1   0   2   0   1]\n [  3   1  80   0  11  14   0]\n [  1   2   2   3   2   1   0]\n [  1   1  22   0 739  46   2]\n [  4   3   7   0  16  62   0]\n [  0   0   0   0   0   0  15]]\nEpoch 0/0, Loss: 0.19651673089076832\ncurrent accuracy is  83.57142857142857\nEpoch 0/0, Loss: 0.16785594467755136\ncurrent accuracy is  83.39285714285714\nEpoch 0/0, Loss: 0.15870806052372222\ncurrent accuracy is  84.46428571428571\nEpoch 0/0, Loss: 0.1452503855135746\ncurrent accuracy is  84.28571428571429\nEpoch 0/0, Loss: 0.12963390207236133\ncurrent accuracy is  85.625\nEpoch 0/0, Loss: 0.1284147742738175\ncurrent accuracy is  84.82142857142857\nEpoch 0/0, Loss: 0.11731044592324463\ncurrent accuracy is  85.35714285714286\nEpoch 0/0, Loss: 0.11756154031083896\ncurrent accuracy is  85.35714285714286\nEpoch 0/0, Loss: 0.10778505478917462\ncurrent accuracy is  85.625\nEpoch 0/0, Loss: 0.10134747157032352\ncurrent accuracy is  85.53571428571429\nCurrent accuracy is: 86.08%\nClassification Report:\n               precision    recall  f1-score   support\n\n          nv       0.68      0.68      0.68        34\n         mel       0.81      0.86      0.83        49\n         bkl       0.71      0.75      0.73       109\n         bcc       0.67      0.36      0.47        11\n       akiec       0.96      0.91      0.94       811\n        vasc       0.48      0.65      0.56        92\n          df       0.75      1.00      0.86        15\n\n    accuracy                           0.86      1121\n   macro avg       0.72      0.74      0.72      1121\nweighted avg       0.88      0.86      0.87      1121\n\nConfusion Matrix:\n [[ 23   0   6   1   2   2   0]\n [  2  42   1   0   3   0   1]\n [  4   5  82   0   5  13   0]\n [  0   2   2   4   2   0   1]\n [  2   2  17   0 739  49   2]\n [  3   1   8   1  18  60   1]\n [  0   0   0   0   0   0  15]]\n",
     "output_type": "stream"
    }
   ],
   "execution_count": 125
  },
  {
   "cell_type": "code",
   "source": "retrain_model_eff(name='watcher1', layid = 3)",
   "metadata": {
    "execution": {
     "iopub.status.busy": "2024-10-04T10:22:51.773069Z",
     "iopub.execute_input": "2024-10-04T10:22:51.773484Z",
     "iopub.status.idle": "2024-10-04T10:26:44.139916Z",
     "shell.execute_reply.started": "2024-10-04T10:22:51.773452Z",
     "shell.execute_reply": "2024-10-04T10:26:44.138931Z"
    },
    "collapsed": true,
    "jupyter": {
     "outputs_hidden": true
    },
    "trusted": true
   },
   "outputs": [
    {
     "name": "stdout",
     "text": "Total number of batches in Train Loader: 164\nTotal number of batches in Val Loader: 35\nCurrent accuracy is: 85.91%\nClassification Report:\n               precision    recall  f1-score   support\n\n          nv       0.65      0.65      0.65        34\n         mel       0.86      0.86      0.86        49\n         bkl       0.68      0.73      0.70       109\n         bcc       1.00      0.27      0.43        11\n       akiec       0.96      0.91      0.93       811\n        vasc       0.48      0.67      0.56        92\n          df       0.83      1.00      0.91        15\n\n    accuracy                           0.86      1121\n   macro avg       0.78      0.73      0.72      1121\nweighted avg       0.88      0.86      0.86      1121\n\nConfusion Matrix:\n [[ 22   0   6   0   1   5   0]\n [  3  42   1   0   2   0   1]\n [  3   1  80   0  11  14   0]\n [  1   2   2   3   2   1   0]\n [  1   1  22   0 739  46   2]\n [  4   3   7   0  16  62   0]\n [  0   0   0   0   0   0  15]]\nEpoch 0/0, Loss: 0.18552498015143523\ncurrent accuracy is  83.21428571428571\nEpoch 0/0, Loss: 0.17384744472460958\ncurrent accuracy is  83.48214285714286\nEpoch 0/0, Loss: 0.15757615541721262\ncurrent accuracy is  84.55357142857143\nEpoch 0/0, Loss: 0.1334948300883719\ncurrent accuracy is  84.55357142857143\nEpoch 0/0, Loss: 0.12646480896169457\ncurrent accuracy is  84.73214285714286\nEpoch 0/0, Loss: 0.12803722297909056\ncurrent accuracy is  85.35714285714286\nEpoch 0/0, Loss: 0.10702438969392239\ncurrent accuracy is  83.83928571428571\nEpoch 0/0, Loss: 0.11287661722475072\ncurrent accuracy is  84.64285714285714\nEpoch 0/0, Loss: 0.1033497721967628\ncurrent accuracy is  85.44642857142857\nEpoch 0/0, Loss: 0.10298348419515915\ncurrent accuracy is  84.46428571428571\nCurrent accuracy is: 85.37%\nClassification Report:\n               precision    recall  f1-score   support\n\n          nv       0.67      0.65      0.66        34\n         mel       0.83      0.88      0.85        49\n         bkl       0.68      0.72      0.70       109\n         bcc       0.62      0.45      0.53        11\n       akiec       0.97      0.90      0.93       811\n        vasc       0.46      0.72      0.56        92\n          df       0.68      1.00      0.81        15\n\n    accuracy                           0.85      1121\n   macro avg       0.70      0.76      0.72      1121\nweighted avg       0.88      0.85      0.86      1121\n\nConfusion Matrix:\n [[ 22   0   4   1   1   5   1]\n [  2  43   1   0   2   0   1]\n [  5   3  79   0   5  17   0]\n [  1   2   2   5   0   0   1]\n [  1   3  23   0 727  54   3]\n [  2   1   7   2  13  66   1]\n [  0   0   0   0   0   0  15]]\n",
     "output_type": "stream"
    }
   ],
   "execution_count": 126
  },
  {
   "cell_type": "code",
   "source": "retrain_model_eff(name='watcher2', layid = 3)",
   "metadata": {
    "execution": {
     "iopub.status.busy": "2024-10-04T10:27:39.406508Z",
     "iopub.execute_input": "2024-10-04T10:27:39.407334Z",
     "iopub.status.idle": "2024-10-04T10:31:31.808192Z",
     "shell.execute_reply.started": "2024-10-04T10:27:39.407295Z",
     "shell.execute_reply": "2024-10-04T10:31:31.807271Z"
    },
    "collapsed": true,
    "jupyter": {
     "outputs_hidden": true
    },
    "trusted": true
   },
   "outputs": [
    {
     "name": "stdout",
     "text": "Total number of batches in Train Loader: 164\nTotal number of batches in Val Loader: 35\nCurrent accuracy is: 85.91%\nClassification Report:\n               precision    recall  f1-score   support\n\n          nv       0.65      0.65      0.65        34\n         mel       0.86      0.86      0.86        49\n         bkl       0.68      0.73      0.70       109\n         bcc       1.00      0.27      0.43        11\n       akiec       0.96      0.91      0.93       811\n        vasc       0.48      0.67      0.56        92\n          df       0.83      1.00      0.91        15\n\n    accuracy                           0.86      1121\n   macro avg       0.78      0.73      0.72      1121\nweighted avg       0.88      0.86      0.86      1121\n\nConfusion Matrix:\n [[ 22   0   6   0   1   5   0]\n [  3  42   1   0   2   0   1]\n [  3   1  80   0  11  14   0]\n [  1   2   2   3   2   1   0]\n [  1   1  22   0 739  46   2]\n [  4   3   7   0  16  62   0]\n [  0   0   0   0   0   0  15]]\nEpoch 0/0, Loss: 0.19484343380871705\ncurrent accuracy is  84.10714285714286\nEpoch 0/0, Loss: 0.15361126447550771\ncurrent accuracy is  84.375\nEpoch 0/0, Loss: 0.14818861659207358\ncurrent accuracy is  84.46428571428571\nEpoch 0/0, Loss: 0.1382406855161052\ncurrent accuracy is  84.19642857142857\nEpoch 0/0, Loss: 0.14340175986971435\ncurrent accuracy is  84.28571428571429\nEpoch 0/0, Loss: 0.12565679092914228\ncurrent accuracy is  84.82142857142857\nEpoch 0/0, Loss: 0.1194388572433282\ncurrent accuracy is  84.375\nEpoch 0/0, Loss: 0.1144572880016867\ncurrent accuracy is  85.26785714285714\nEpoch 0/0, Loss: 0.10153752632393706\ncurrent accuracy is  85.35714285714286\nEpoch 0/0, Loss: 0.10125025243657391\ncurrent accuracy is  84.91071428571429\nCurrent accuracy is: 85.01%\nClassification Report:\n               precision    recall  f1-score   support\n\n          nv       0.59      0.65      0.62        34\n         mel       0.85      0.84      0.85        49\n         bkl       0.69      0.72      0.70       109\n         bcc       0.71      0.45      0.56        11\n       akiec       0.97      0.89      0.93       811\n        vasc       0.44      0.73      0.55        92\n          df       0.83      1.00      0.91        15\n\n    accuracy                           0.85      1121\n   macro avg       0.73      0.75      0.73      1121\nweighted avg       0.88      0.85      0.86      1121\n\nConfusion Matrix:\n [[ 22   0   6   1   0   5   0]\n [  3  41   2   0   2   0   1]\n [  5   2  78   0   6  18   0]\n [  1   1   2   5   1   1   0]\n [  2   3  18   0 725  62   1]\n [  4   1   7   1  11  67   1]\n [  0   0   0   0   0   0  15]]\n",
     "output_type": "stream"
    }
   ],
   "execution_count": 127
  },
  {
   "cell_type": "code",
   "source": "retrain_model_eff(name='watcher3', layid = 3)",
   "metadata": {
    "execution": {
     "iopub.status.busy": "2024-10-04T10:32:19.613789Z",
     "iopub.execute_input": "2024-10-04T10:32:19.614733Z",
     "iopub.status.idle": "2024-10-04T10:36:12.223918Z",
     "shell.execute_reply.started": "2024-10-04T10:32:19.614696Z",
     "shell.execute_reply": "2024-10-04T10:36:12.222918Z"
    },
    "collapsed": true,
    "jupyter": {
     "outputs_hidden": true
    },
    "trusted": true
   },
   "outputs": [
    {
     "name": "stdout",
     "text": "Total number of batches in Train Loader: 164\nTotal number of batches in Val Loader: 35\nCurrent accuracy is: 85.91%\nClassification Report:\n               precision    recall  f1-score   support\n\n          nv       0.65      0.65      0.65        34\n         mel       0.86      0.86      0.86        49\n         bkl       0.68      0.73      0.70       109\n         bcc       1.00      0.27      0.43        11\n       akiec       0.96      0.91      0.93       811\n        vasc       0.48      0.67      0.56        92\n          df       0.83      1.00      0.91        15\n\n    accuracy                           0.86      1121\n   macro avg       0.78      0.73      0.72      1121\nweighted avg       0.88      0.86      0.86      1121\n\nConfusion Matrix:\n [[ 22   0   6   0   1   5   0]\n [  3  42   1   0   2   0   1]\n [  3   1  80   0  11  14   0]\n [  1   2   2   3   2   1   0]\n [  1   1  22   0 739  46   2]\n [  4   3   7   0  16  62   0]\n [  0   0   0   0   0   0  15]]\nEpoch 0/0, Loss: 0.20896803477506448\ncurrent accuracy is  84.10714285714286\nEpoch 0/0, Loss: 0.16606058642586194\ncurrent accuracy is  84.19642857142857\nEpoch 0/0, Loss: 0.14459813743966018\ncurrent accuracy is  84.28571428571429\nEpoch 0/0, Loss: 0.13440371126436243\ncurrent accuracy is  84.19642857142857\nEpoch 0/0, Loss: 0.12187437026011871\ncurrent accuracy is  85.0\nEpoch 0/0, Loss: 0.12546159864244302\ncurrent accuracy is  84.10714285714286\nEpoch 0/0, Loss: 0.11939513836646588\ncurrent accuracy is  85.44642857142857\nEpoch 0/0, Loss: 0.1225299486754144\ncurrent accuracy is  84.10714285714286\nEpoch 0/0, Loss: 0.10552908007123667\ncurrent accuracy is  85.0\nEpoch 0/0, Loss: 0.0961350538858735\ncurrent accuracy is  85.625\nCurrent accuracy is: 86.44%\nClassification Report:\n               precision    recall  f1-score   support\n\n          nv       0.71      0.65      0.68        34\n         mel       0.91      0.84      0.87        49\n         bkl       0.71      0.73      0.72       109\n         bcc       0.58      0.64      0.61        11\n       akiec       0.96      0.92      0.94       811\n        vasc       0.49      0.66      0.56        92\n          df       0.65      1.00      0.79        15\n\n    accuracy                           0.86      1121\n   macro avg       0.72      0.78      0.74      1121\nweighted avg       0.88      0.86      0.87      1121\n\nConfusion Matrix:\n [[ 22   0   4   1   1   5   1]\n [  2  41   0   0   4   1   1]\n [  3   1  80   0  10  15   0]\n [  0   1   1   7   1   0   1]\n [  1   1  19   0 743  43   4]\n [  3   1   8   4  14  61   1]\n [  0   0   0   0   0   0  15]]\n",
     "output_type": "stream"
    }
   ],
   "execution_count": 128
  },
  {
   "cell_type": "code",
   "source": "retrain_model_eff(name='watcher4', layid = 3)",
   "metadata": {
    "execution": {
     "iopub.status.busy": "2024-10-04T13:18:36.315429Z",
     "iopub.execute_input": "2024-10-04T13:18:36.316056Z",
     "iopub.status.idle": "2024-10-04T13:22:24.299276Z",
     "shell.execute_reply.started": "2024-10-04T13:18:36.316026Z",
     "shell.execute_reply": "2024-10-04T13:22:24.298092Z"
    },
    "collapsed": true,
    "jupyter": {
     "outputs_hidden": true
    },
    "trusted": true
   },
   "outputs": [
    {
     "name": "stderr",
     "text": "Downloading: \"https://download.pytorch.org/models/efficientnet_b0_rwightman-7f5810bc.pth\" to /root/.cache/torch/hub/checkpoints/efficientnet_b0_rwightman-7f5810bc.pth\n100%|██████████| 20.5M/20.5M [00:00<00:00, 125MB/s] \n",
     "output_type": "stream"
    },
    {
     "name": "stdout",
     "text": "Total number of batches in Train Loader: 164\nTotal number of batches in Val Loader: 35\nCurrent accuracy is: 85.91%\nClassification Report:\n               precision    recall  f1-score   support\n\n          nv       0.65      0.65      0.65        34\n         mel       0.86      0.86      0.86        49\n         bkl       0.68      0.73      0.70       109\n         bcc       1.00      0.27      0.43        11\n       akiec       0.96      0.91      0.93       811\n        vasc       0.48      0.67      0.56        92\n          df       0.83      1.00      0.91        15\n\n    accuracy                           0.86      1121\n   macro avg       0.78      0.73      0.72      1121\nweighted avg       0.88      0.86      0.86      1121\n\nConfusion Matrix:\n [[ 22   0   6   0   1   5   0]\n [  3  42   1   0   2   0   1]\n [  3   1  80   0  11  14   0]\n [  1   2   2   3   2   1   0]\n [  1   1  22   0 739  46   2]\n [  4   3   7   0  16  62   0]\n [  0   0   0   0   0   0  15]]\nEpoch 0/0, Loss: 0.20881807924498144\ncurrent accuracy is  82.85714285714286\nEpoch 0/0, Loss: 0.1765629678010577\ncurrent accuracy is  84.55357142857143\nEpoch 0/0, Loss: 0.14880668938659677\ncurrent accuracy is  84.10714285714286\nEpoch 0/0, Loss: 0.13147769365232528\ncurrent accuracy is  85.0\nEpoch 0/0, Loss: 0.1411253282652668\ncurrent accuracy is  84.46428571428571\nEpoch 0/0, Loss: 0.13142136602503499\ncurrent accuracy is  84.64285714285714\nEpoch 0/0, Loss: 0.10279938170868086\ncurrent accuracy is  84.82142857142857\nEpoch 0/0, Loss: 0.11555852564960355\ncurrent accuracy is  85.53571428571429\nEpoch 0/0, Loss: 0.09901706350785566\ncurrent accuracy is  85.08928571428571\nEpoch 0/0, Loss: 0.09699075327754565\ncurrent accuracy is  84.55357142857143\nCurrent accuracy is: 85.37%\nClassification Report:\n               precision    recall  f1-score   support\n\n          nv       0.63      0.71      0.67        34\n         mel       0.91      0.86      0.88        49\n         bkl       0.72      0.74      0.73       109\n         bcc       0.70      0.64      0.67        11\n       akiec       0.97      0.89      0.93       811\n        vasc       0.45      0.68      0.55        92\n          df       0.60      1.00      0.75        15\n\n    accuracy                           0.85      1121\n   macro avg       0.71      0.79      0.74      1121\nweighted avg       0.88      0.85      0.86      1121\n\nConfusion Matrix:\n [[ 24   0   4   1   0   4   1]\n [  3  42   1   0   1   1   1]\n [  6   1  81   0   8  13   0]\n [  1   1   0   7   1   0   1]\n [  2   1  20   0 725  58   5]\n [  2   1   6   2  16  63   2]\n [  0   0   0   0   0   0  15]]\n",
     "output_type": "stream"
    }
   ],
   "execution_count": 14
  },
  {
   "cell_type": "code",
   "source": "retrain_model_eff(name='watcher5', layid = 3)",
   "metadata": {
    "execution": {
     "iopub.status.busy": "2024-10-04T13:23:06.501631Z",
     "iopub.execute_input": "2024-10-04T13:23:06.502005Z",
     "iopub.status.idle": "2024-10-04T13:26:54.123332Z",
     "shell.execute_reply.started": "2024-10-04T13:23:06.501978Z",
     "shell.execute_reply": "2024-10-04T13:26:54.122406Z"
    },
    "collapsed": true,
    "jupyter": {
     "outputs_hidden": true
    },
    "trusted": true
   },
   "outputs": [
    {
     "name": "stdout",
     "text": "Total number of batches in Train Loader: 164\nTotal number of batches in Val Loader: 35\nCurrent accuracy is: 85.91%\nClassification Report:\n               precision    recall  f1-score   support\n\n          nv       0.65      0.65      0.65        34\n         mel       0.86      0.86      0.86        49\n         bkl       0.68      0.73      0.70       109\n         bcc       1.00      0.27      0.43        11\n       akiec       0.96      0.91      0.93       811\n        vasc       0.48      0.67      0.56        92\n          df       0.83      1.00      0.91        15\n\n    accuracy                           0.86      1121\n   macro avg       0.78      0.73      0.72      1121\nweighted avg       0.88      0.86      0.86      1121\n\nConfusion Matrix:\n [[ 22   0   6   0   1   5   0]\n [  3  42   1   0   2   0   1]\n [  3   1  80   0  11  14   0]\n [  1   2   2   3   2   1   0]\n [  1   1  22   0 739  46   2]\n [  4   3   7   0  16  62   0]\n [  0   0   0   0   0   0  15]]\nEpoch 0/0, Loss: 0.19903595810301783\ncurrent accuracy is  83.48214285714286\nEpoch 0/0, Loss: 0.16467952580622783\ncurrent accuracy is  84.46428571428571\nEpoch 0/0, Loss: 0.1494975252781154\ncurrent accuracy is  84.375\nEpoch 0/0, Loss: 0.13664636298696078\ncurrent accuracy is  84.82142857142857\nEpoch 0/0, Loss: 0.12710114868312347\ncurrent accuracy is  83.66071428571429\nEpoch 0/0, Loss: 0.11853706113221806\ncurrent accuracy is  84.28571428571429\nEpoch 0/0, Loss: 0.11903342135000701\ncurrent accuracy is  84.10714285714286\nEpoch 0/0, Loss: 0.11633001786951976\ncurrent accuracy is  84.375\nEpoch 0/0, Loss: 0.10985988486989788\ncurrent accuracy is  84.375\nEpoch 0/0, Loss: 0.09698048030117118\ncurrent accuracy is  85.625\nCurrent accuracy is: 86.17%\nClassification Report:\n               precision    recall  f1-score   support\n\n          nv       0.66      0.68      0.67        34\n         mel       0.90      0.88      0.89        49\n         bkl       0.74      0.73      0.74       109\n         bcc       0.83      0.45      0.59        11\n       akiec       0.96      0.91      0.93       811\n        vasc       0.49      0.71      0.58        92\n          df       0.60      1.00      0.75        15\n\n    accuracy                           0.86      1121\n   macro avg       0.74      0.77      0.73      1121\nweighted avg       0.88      0.86      0.87      1121\n\nConfusion Matrix:\n [[ 23   0   4   1   1   4   1]\n [  2  43   0   0   2   1   1]\n [  6   0  80   0  10  13   0]\n [  0   2   2   5   1   0   1]\n [  2   2  16   0 735  51   5]\n [  2   1   6   0  16  65   2]\n [  0   0   0   0   0   0  15]]\n",
     "output_type": "stream"
    }
   ],
   "execution_count": 15
  },
  {
   "cell_type": "code",
   "source": "retrain_model_eff(name='watcher6', layid = 3)",
   "metadata": {
    "execution": {
     "iopub.status.busy": "2024-10-04T13:28:05.041264Z",
     "iopub.execute_input": "2024-10-04T13:28:05.041758Z",
     "iopub.status.idle": "2024-10-04T13:31:52.541116Z",
     "shell.execute_reply.started": "2024-10-04T13:28:05.041726Z",
     "shell.execute_reply": "2024-10-04T13:31:52.540140Z"
    },
    "collapsed": true,
    "jupyter": {
     "outputs_hidden": true
    },
    "trusted": true
   },
   "outputs": [
    {
     "name": "stdout",
     "text": "Total number of batches in Train Loader: 164\nTotal number of batches in Val Loader: 35\nCurrent accuracy is: 85.91%\nClassification Report:\n               precision    recall  f1-score   support\n\n          nv       0.65      0.65      0.65        34\n         mel       0.86      0.86      0.86        49\n         bkl       0.68      0.73      0.70       109\n         bcc       1.00      0.27      0.43        11\n       akiec       0.96      0.91      0.93       811\n        vasc       0.48      0.67      0.56        92\n          df       0.83      1.00      0.91        15\n\n    accuracy                           0.86      1121\n   macro avg       0.78      0.73      0.72      1121\nweighted avg       0.88      0.86      0.86      1121\n\nConfusion Matrix:\n [[ 22   0   6   0   1   5   0]\n [  3  42   1   0   2   0   1]\n [  3   1  80   0  11  14   0]\n [  1   2   2   3   2   1   0]\n [  1   1  22   0 739  46   2]\n [  4   3   7   0  16  62   0]\n [  0   0   0   0   0   0  15]]\nEpoch 0/0, Loss: 0.2082034497090229\ncurrent accuracy is  84.28571428571429\nEpoch 0/0, Loss: 0.17687453118311922\ncurrent accuracy is  83.83928571428571\nEpoch 0/0, Loss: 0.15671020642876987\ncurrent accuracy is  84.28571428571429\nEpoch 0/0, Loss: 0.1350995908866114\ncurrent accuracy is  83.39285714285714\nEpoch 0/0, Loss: 0.12499034403051\ncurrent accuracy is  84.91071428571429\nEpoch 0/0, Loss: 0.1334914527379158\ncurrent accuracy is  84.82142857142857\nEpoch 0/0, Loss: 0.11741352687226381\ncurrent accuracy is  84.91071428571429\nEpoch 0/0, Loss: 0.10760436429664856\ncurrent accuracy is  84.82142857142857\nEpoch 0/0, Loss: 0.1005431971649026\ncurrent accuracy is  84.64285714285714\nEpoch 0/0, Loss: 0.11267265562740404\ncurrent accuracy is  85.53571428571429\nCurrent accuracy is: 86.80%\nClassification Report:\n               precision    recall  f1-score   support\n\n          nv       0.65      0.71      0.68        34\n         mel       0.89      0.86      0.88        49\n         bkl       0.71      0.71      0.71       109\n         bcc       0.62      0.73      0.67        11\n       akiec       0.96      0.92      0.94       811\n        vasc       0.54      0.68      0.61        92\n          df       0.71      1.00      0.83        15\n\n    accuracy                           0.87      1121\n   macro avg       0.73      0.80      0.76      1121\nweighted avg       0.88      0.87      0.87      1121\n\nConfusion Matrix:\n [[ 24   0   5   1   1   2   1]\n [  3  42   0   0   3   0   1]\n [  6   1  77   2  12  11   0]\n [  1   1   0   8   1   0   0]\n [  1   2  20   0 744  40   4]\n [  2   1   6   2  18  63   0]\n [  0   0   0   0   0   0  15]]\n",
     "output_type": "stream"
    }
   ],
   "execution_count": 16
  },
  {
   "cell_type": "code",
   "source": "retrain_model_eff(name='watcher7', layid = 3)",
   "metadata": {
    "execution": {
     "iopub.status.busy": "2024-10-04T13:35:09.286475Z",
     "iopub.execute_input": "2024-10-04T13:35:09.287361Z",
     "iopub.status.idle": "2024-10-04T13:38:54.156568Z",
     "shell.execute_reply.started": "2024-10-04T13:35:09.287328Z",
     "shell.execute_reply": "2024-10-04T13:38:54.155552Z"
    },
    "collapsed": true,
    "jupyter": {
     "outputs_hidden": true
    },
    "trusted": true
   },
   "outputs": [
    {
     "name": "stdout",
     "text": "Total number of batches in Train Loader: 164\nTotal number of batches in Val Loader: 35\nCurrent accuracy is: 85.91%\nClassification Report:\n               precision    recall  f1-score   support\n\n          nv       0.65      0.65      0.65        34\n         mel       0.86      0.86      0.86        49\n         bkl       0.68      0.73      0.70       109\n         bcc       1.00      0.27      0.43        11\n       akiec       0.96      0.91      0.93       811\n        vasc       0.48      0.67      0.56        92\n          df       0.83      1.00      0.91        15\n\n    accuracy                           0.86      1121\n   macro avg       0.78      0.73      0.72      1121\nweighted avg       0.88      0.86      0.86      1121\n\nConfusion Matrix:\n [[ 22   0   6   0   1   5   0]\n [  3  42   1   0   2   0   1]\n [  3   1  80   0  11  14   0]\n [  1   2   2   3   2   1   0]\n [  1   1  22   0 739  46   2]\n [  4   3   7   0  16  62   0]\n [  0   0   0   0   0   0  15]]\nEpoch 0/0, Loss: 0.18595268589830616\ncurrent accuracy is  83.66071428571429\nEpoch 0/0, Loss: 0.171760114511793\ncurrent accuracy is  83.75\nEpoch 0/0, Loss: 0.14679295164192233\ncurrent accuracy is  84.46428571428571\nEpoch 0/0, Loss: 0.14102411340558674\ncurrent accuracy is  84.10714285714286\nEpoch 0/0, Loss: 0.13073956095272812\ncurrent accuracy is  84.10714285714286\nEpoch 0/0, Loss: 0.1182481561355838\ncurrent accuracy is  84.46428571428571\nEpoch 0/0, Loss: 0.11496451535693757\ncurrent accuracy is  85.0\nEpoch 0/0, Loss: 0.11344903016962656\ncurrent accuracy is  84.55357142857143\nEpoch 0/0, Loss: 0.09496678803797538\ncurrent accuracy is  84.91071428571429\nEpoch 0/0, Loss: 0.08145791851551976\ncurrent accuracy is  84.19642857142857\nCurrent accuracy is: 85.01%\nClassification Report:\n               precision    recall  f1-score   support\n\n          nv       0.61      0.74      0.67        34\n         mel       0.88      0.86      0.87        49\n         bkl       0.68      0.73      0.71       109\n         bcc       0.71      0.45      0.56        11\n       akiec       0.97      0.89      0.93       811\n        vasc       0.46      0.71      0.56        92\n          df       0.65      1.00      0.79        15\n\n    accuracy                           0.85      1121\n   macro avg       0.71      0.77      0.72      1121\nweighted avg       0.88      0.85      0.86      1121\n\nConfusion Matrix:\n [[ 25   0   5   1   0   2   1]\n [  3  42   1   0   2   0   1]\n [  5   1  80   0   6  17   0]\n [  2   2   1   5   1   0   0]\n [  4   2  23   0 721  56   5]\n [  2   1   7   1  15  65   1]\n [  0   0   0   0   0   0  15]]\n",
     "output_type": "stream"
    }
   ],
   "execution_count": 17
  },
  {
   "cell_type": "code",
   "source": "retrain_model_eff(name='watcher8', layid = 3)",
   "metadata": {
    "execution": {
     "iopub.status.busy": "2024-10-04T13:40:59.540689Z",
     "iopub.execute_input": "2024-10-04T13:40:59.541453Z",
     "iopub.status.idle": "2024-10-04T13:44:47.178959Z",
     "shell.execute_reply.started": "2024-10-04T13:40:59.541418Z",
     "shell.execute_reply": "2024-10-04T13:44:47.177829Z"
    },
    "collapsed": true,
    "jupyter": {
     "outputs_hidden": true
    },
    "trusted": true
   },
   "outputs": [
    {
     "name": "stdout",
     "text": "Total number of batches in Train Loader: 164\nTotal number of batches in Val Loader: 35\nCurrent accuracy is: 85.91%\nClassification Report:\n               precision    recall  f1-score   support\n\n          nv       0.65      0.65      0.65        34\n         mel       0.86      0.86      0.86        49\n         bkl       0.68      0.73      0.70       109\n         bcc       1.00      0.27      0.43        11\n       akiec       0.96      0.91      0.93       811\n        vasc       0.48      0.67      0.56        92\n          df       0.83      1.00      0.91        15\n\n    accuracy                           0.86      1121\n   macro avg       0.78      0.73      0.72      1121\nweighted avg       0.88      0.86      0.86      1121\n\nConfusion Matrix:\n [[ 22   0   6   0   1   5   0]\n [  3  42   1   0   2   0   1]\n [  3   1  80   0  11  14   0]\n [  1   2   2   3   2   1   0]\n [  1   1  22   0 739  46   2]\n [  4   3   7   0  16  62   0]\n [  0   0   0   0   0   0  15]]\nEpoch 0/0, Loss: 0.1944242732644808\ncurrent accuracy is  84.375\nEpoch 0/0, Loss: 0.16791856162840638\ncurrent accuracy is  83.83928571428571\nEpoch 0/0, Loss: 0.15872548299091982\ncurrent accuracy is  83.48214285714286\nEpoch 0/0, Loss: 0.13683192486443171\ncurrent accuracy is  84.73214285714286\nEpoch 0/0, Loss: 0.12494328941741004\ncurrent accuracy is  85.08928571428571\nEpoch 0/0, Loss: 0.12274455950913452\ncurrent accuracy is  84.82142857142857\nEpoch 0/0, Loss: 0.12013699090471719\ncurrent accuracy is  84.73214285714286\nEpoch 0/0, Loss: 0.11407167959117853\ncurrent accuracy is  85.17857142857143\nEpoch 0/0, Loss: 0.09513375649751141\ncurrent accuracy is  84.73214285714286\nEpoch 0/0, Loss: 0.1043483610037805\ncurrent accuracy is  85.625\nCurrent accuracy is: 86.71%\nClassification Report:\n               precision    recall  f1-score   support\n\n          nv       0.70      0.68      0.69        34\n         mel       0.89      0.86      0.88        49\n         bkl       0.69      0.75      0.72       109\n         bcc       1.00      0.64      0.78        11\n       akiec       0.96      0.91      0.94       811\n        vasc       0.52      0.67      0.58        92\n          df       0.68      1.00      0.81        15\n\n    accuracy                           0.87      1121\n   macro avg       0.78      0.79      0.77      1121\nweighted avg       0.88      0.87      0.87      1121\n\nConfusion Matrix:\n [[ 23   0   5   0   1   4   1]\n [  3  42   1   0   2   0   1]\n [  3   1  82   0  10  13   0]\n [  1   1   1   7   1   0   0]\n [  1   2  22   0 741  41   4]\n [  2   1   7   0  19  62   1]\n [  0   0   0   0   0   0  15]]\n",
     "output_type": "stream"
    }
   ],
   "execution_count": 18
  },
  {
   "cell_type": "code",
   "source": "retrain_model_eff(name='watcher9', layid = 3)",
   "metadata": {
    "execution": {
     "iopub.status.busy": "2024-10-04T13:45:18.507817Z",
     "iopub.execute_input": "2024-10-04T13:45:18.508465Z",
     "iopub.status.idle": "2024-10-04T13:49:05.967167Z",
     "shell.execute_reply.started": "2024-10-04T13:45:18.508431Z",
     "shell.execute_reply": "2024-10-04T13:49:05.966250Z"
    },
    "collapsed": true,
    "jupyter": {
     "outputs_hidden": true
    },
    "trusted": true
   },
   "outputs": [
    {
     "name": "stdout",
     "text": "Total number of batches in Train Loader: 164\nTotal number of batches in Val Loader: 35\nCurrent accuracy is: 85.91%\nClassification Report:\n               precision    recall  f1-score   support\n\n          nv       0.65      0.65      0.65        34\n         mel       0.86      0.86      0.86        49\n         bkl       0.68      0.73      0.70       109\n         bcc       1.00      0.27      0.43        11\n       akiec       0.96      0.91      0.93       811\n        vasc       0.48      0.67      0.56        92\n          df       0.83      1.00      0.91        15\n\n    accuracy                           0.86      1121\n   macro avg       0.78      0.73      0.72      1121\nweighted avg       0.88      0.86      0.86      1121\n\nConfusion Matrix:\n [[ 22   0   6   0   1   5   0]\n [  3  42   1   0   2   0   1]\n [  3   1  80   0  11  14   0]\n [  1   2   2   3   2   1   0]\n [  1   1  22   0 739  46   2]\n [  4   3   7   0  16  62   0]\n [  0   0   0   0   0   0  15]]\nEpoch 0/0, Loss: 0.18779352956973924\ncurrent accuracy is  85.08928571428571\nEpoch 0/0, Loss: 0.16079810862543015\ncurrent accuracy is  85.26785714285714\nEpoch 0/0, Loss: 0.147086153840419\ncurrent accuracy is  84.73214285714286\nEpoch 0/0, Loss: 0.1338492687791586\ncurrent accuracy is  84.91071428571429\nEpoch 0/0, Loss: 0.12872069380132528\ncurrent accuracy is  86.16071428571429\nEpoch 0/0, Loss: 0.11622010535424257\ncurrent accuracy is  83.92857142857143\nEpoch 0/0, Loss: 0.1129714723040418\ncurrent accuracy is  84.55357142857143\nEpoch 0/0, Loss: 0.11978563808313594\ncurrent accuracy is  84.10714285714286\nEpoch 0/0, Loss: 0.10649579064352666\ncurrent accuracy is  85.625\nEpoch 0/0, Loss: 0.09914914783226644\ncurrent accuracy is  85.26785714285714\nCurrent accuracy is: 86.08%\nClassification Report:\n               precision    recall  f1-score   support\n\n          nv       0.65      0.65      0.65        34\n         mel       0.91      0.84      0.87        49\n         bkl       0.70      0.75      0.73       109\n         bcc       0.83      0.45      0.59        11\n       akiec       0.96      0.91      0.93       811\n        vasc       0.50      0.72      0.59        92\n          df       0.65      1.00      0.79        15\n\n    accuracy                           0.86      1121\n   macro avg       0.74      0.76      0.73      1121\nweighted avg       0.88      0.86      0.87      1121\n\nConfusion Matrix:\n [[ 22   0   5   0   1   5   1]\n [  3  41   1   0   3   0   1]\n [  5   1  82   0  10  11   0]\n [  1   1   2   5   1   0   1]\n [  1   1  21   0 734  50   4]\n [  2   1   6   1  15  66   1]\n [  0   0   0   0   0   0  15]]\n",
     "output_type": "stream"
    }
   ],
   "execution_count": 19
  },
  {
   "cell_type": "code",
   "source": "retrain_model_eff(name='watcher10', layid = 3)",
   "metadata": {
    "execution": {
     "iopub.status.busy": "2024-10-04T13:50:01.215785Z",
     "iopub.execute_input": "2024-10-04T13:50:01.216163Z",
     "iopub.status.idle": "2024-10-04T13:53:48.759075Z",
     "shell.execute_reply.started": "2024-10-04T13:50:01.216133Z",
     "shell.execute_reply": "2024-10-04T13:53:48.758153Z"
    },
    "collapsed": true,
    "jupyter": {
     "outputs_hidden": true
    },
    "trusted": true
   },
   "outputs": [
    {
     "name": "stdout",
     "text": "Total number of batches in Train Loader: 164\nTotal number of batches in Val Loader: 35\nCurrent accuracy is: 85.91%\nClassification Report:\n               precision    recall  f1-score   support\n\n          nv       0.65      0.65      0.65        34\n         mel       0.86      0.86      0.86        49\n         bkl       0.68      0.73      0.70       109\n         bcc       1.00      0.27      0.43        11\n       akiec       0.96      0.91      0.93       811\n        vasc       0.48      0.67      0.56        92\n          df       0.83      1.00      0.91        15\n\n    accuracy                           0.86      1121\n   macro avg       0.78      0.73      0.72      1121\nweighted avg       0.88      0.86      0.86      1121\n\nConfusion Matrix:\n [[ 22   0   6   0   1   5   0]\n [  3  42   1   0   2   0   1]\n [  3   1  80   0  11  14   0]\n [  1   2   2   3   2   1   0]\n [  1   1  22   0 739  46   2]\n [  4   3   7   0  16  62   0]\n [  0   0   0   0   0   0  15]]\nEpoch 0/0, Loss: 0.1978333115509552\ncurrent accuracy is  83.48214285714286\nEpoch 0/0, Loss: 0.1653913461330642\ncurrent accuracy is  84.10714285714286\nEpoch 0/0, Loss: 0.1570060642368001\ncurrent accuracy is  85.26785714285714\nEpoch 0/0, Loss: 0.14835779217821432\ncurrent accuracy is  84.73214285714286\nEpoch 0/0, Loss: 0.12488758213045757\ncurrent accuracy is  85.35714285714286\nEpoch 0/0, Loss: 0.12193890035197866\ncurrent accuracy is  84.55357142857143\nEpoch 0/0, Loss: 0.10959340000479686\ncurrent accuracy is  85.08928571428571\nEpoch 0/0, Loss: 0.10040813325563581\ncurrent accuracy is  85.0\nEpoch 0/0, Loss: 0.12285139578076579\ncurrent accuracy is  84.91071428571429\nEpoch 0/0, Loss: 0.09699015645878162\ncurrent accuracy is  85.44642857142857\nCurrent accuracy is: 86.44%\nClassification Report:\n               precision    recall  f1-score   support\n\n          nv       0.72      0.68      0.70        34\n         mel       0.86      0.88      0.87        49\n         bkl       0.70      0.77      0.73       109\n         bcc       0.75      0.55      0.63        11\n       akiec       0.96      0.91      0.93       811\n        vasc       0.50      0.68      0.58        92\n          df       0.68      1.00      0.81        15\n\n    accuracy                           0.86      1121\n   macro avg       0.74      0.78      0.75      1121\nweighted avg       0.88      0.86      0.87      1121\n\nConfusion Matrix:\n [[ 23   0   5   1   1   3   1]\n [  2  43   1   0   2   0   1]\n [  5   0  84   0   7  13   0]\n [  0   3   0   6   1   0   1]\n [  0   3  23   0 735  47   3]\n [  2   1   7   1  17  63   1]\n [  0   0   0   0   0   0  15]]\n",
     "output_type": "stream"
    }
   ],
   "execution_count": 20
  },
  {
   "cell_type": "code",
   "source": "\n    \nlayer_replacement_info = {\n        'net.features.6.0.block.2.fc1': 'over-trained',\n        'net.features.6.0.block.2.fc2': 'over-trained',\n        'net.features.2.0.block.3.0': 'under-trained',\n        'net.features.3.1.block.3.0': 'under-trained',\n        'net.features.6.0.block.3.0': 'under-trained',\n        'net.features.7.0.block.2.fc1': 'under-trained',\n        'net.features.7.0.block.3.0': 'under-trained',\n    }\n\n\n\n\ndef main_eff_retrain(model = None, name='test',params_to_tune=None):\n    # Hyperparameters\n    num_epochs_mlp = 1\n    num_epochs_total = 10  # Total epochs including both MLP and U-Net\n    learning_rate = 0.001\n    BATCH_SIZE = 32\n\n    # Now you can train the model on your dataset\n    model = model.to('cuda' if torch.cuda.is_available() else 'cpu')\n    # Loss and optimizer\n    criterion = nn.CrossEntropyLoss()\n#   this is for tune only, 1 and 2, the follows is only tune \n      \n    \n#     optimizer = optim.Adam(model.net.features.7.0.block.2.fc.parameters(), lr=1e-4)\n    optimizer = optim.Adam(params_to_tune, lr=1e-4)\n    from torch.utils.data import DataLoader, WeightedRandomSampler\n    from collections import Counter\n    # Compute class weights for imbalanced dataset\n    class_counts = Counter([label for label in train_df['cell_type_idx']])\n    class_weights = {class_id: 1.0 / count for class_id, count in class_counts.items()}\n    sample_weights = [class_weights[label] for label in train_df['cell_type_idx']]\n    sampler = WeightedRandomSampler(sample_weights, num_samples=len(sample_weights), replacement=True)\n    \n\n    image_source = '/kaggle/input/skin-cancer-mnist-ham10000/'\n    train_data = dataMedicalImage(train_df, image_folder= image_source, transform=transform_train)\n    val_data = dataMedicalImage(val_df,image_folder= image_source,  transform=transform_val)\n    test_data = dataMedicalImage(test_df, image_folder= image_source, transform=transform_val)\n    \n    # Data loaders\n    trainloader = DataLoader(dataset=train_data, batch_size=BATCH_SIZE, sampler=sampler)\n    valloader = DataLoader(val_data, batch_size=BATCH_SIZE, shuffle=False)\n    testloader = DataLoader(test_data, batch_size=BATCH_SIZE, shuffle=False)\n\n    print(f\"Total number of batches in Train Loader: {len(trainloader)}\")\n    print(f\"Total number of batches in Val Loader: {len(valloader)}\")\n\n    best_model = None\n    accf = 0\n    test_model(model, testloader)\n    \n    for epoch in range(0, num_epochs_total, 1):\n        # Train MLP for 10 epochs\n        model = train_model(model, trainloader, criterion, optimizer, num_epochs_mlp)\n\n        acc = eval_model(model, valloader)\n        if acc > accf:\n            accf = acc\n            best_model = model\n            torch.save(best_model.state_dict(), 'retrain_eff_old_model_'+name+'.pt')\n    test_model(best_model, testloader)\n    ",
   "metadata": {
    "execution": {
     "iopub.status.busy": "2024-10-04T13:17:52.411247Z",
     "iopub.execute_input": "2024-10-04T13:17:52.411651Z",
     "iopub.status.idle": "2024-10-04T13:17:52.424606Z",
     "shell.execute_reply.started": "2024-10-04T13:17:52.411618Z",
     "shell.execute_reply": "2024-10-04T13:17:52.423667Z"
    },
    "trusted": true
   },
   "outputs": [],
   "execution_count": 11
  },
  {
   "cell_type": "code",
   "source": "import torch\nfrom torch import nn\nfrom torchvision import models\n\n\ndef change_parameters(model1, model2):\n    # Load model1 with pre-trained weights\n    # model1 = models.efficientnet_b0(weights='DEFAULT')\n\n    # # Load model2 with custom weights\n    # model2 = models.efficientnet_b0(weights=None)  # Initialize with no pre-trained weights\n    # model2.load_state_dict(torch.load('/eff_combine_model_tune.pt'))\n\n    # Define the layers to replace and the layers to tune or freeze\n    layer_replacement_info = {\n        'net.features.6.0.block.2.fc1': 'over-trained',\n        'net.features.6.0.block.2.fc2': 'over-trained',\n        'net.features.2.0.block.3.0': 'under-trained',\n        'net.features.3.1.block.3.0': 'under-trained',\n        'net.features.6.0.block.3.0': 'under-trained',\n        'net.features.7.0.block.2.fc1': 'under-trained',\n        'net.features.7.0.block.3.0': 'under-trained',\n    }\n\n    # Helper function to get submodule by name\n    def get_submodule_by_name(model, name):\n        for n, m in model.named_modules():\n            if n == name:\n#                 print('--',n)\n                return m\n        return None\n\n    # Replace weights and set parameters\n    for layer_name, status in layer_replacement_info.items():\n        # Remove 'net.' prefix for module lookup\n#         cleaned_layer_name = layer_name.replace('net.', '')\n\n        # Get the layers from both models\n        layer_model1 = get_submodule_by_name(model1, layer_name)\n        layer_model2 = get_submodule_by_name(model2, layer_name)\n#         print(layer_model1)\n#         print(layer_model2)\n        if status == 'over-trained':\n            # Replace the weights of model2 with model1's weights for over-trained layers\n            if layer_model1 is not None and layer_model2 is not None:\n                layer_model2.load_state_dict(layer_model1.state_dict())\n            # Freeze the parameters of the over-trained layers in model2\n            for param in layer_model2.parameters():\n                param.requires_grad = True\n        elif status == 'under-trained':\n            # Make sure the parameters are trainable for under-trained layers in model2\n            if layer_model2 is not None:\n                for param in layer_model2.parameters():\n                    param.requires_grad = True\n\n    # Now model2 has weights replaced for over-trained layers and appropriate layers frozen or unfrozen.\n    return model2",
   "metadata": {
    "execution": {
     "iopub.status.busy": "2024-10-04T13:17:48.434843Z",
     "iopub.execute_input": "2024-10-04T13:17:48.435717Z",
     "iopub.status.idle": "2024-10-04T13:17:48.445640Z",
     "shell.execute_reply.started": "2024-10-04T13:17:48.435685Z",
     "shell.execute_reply": "2024-10-04T13:17:48.444740Z"
    },
    "trusted": true
   },
   "outputs": [],
   "execution_count": 10
  },
  {
   "cell_type": "code",
   "source": "model_eff = change_parameters(model1, model2)",
   "metadata": {
    "execution": {
     "iopub.status.busy": "2024-10-04T10:00:22.186057Z",
     "iopub.execute_input": "2024-10-04T10:00:22.186428Z",
     "iopub.status.idle": "2024-10-04T10:00:22.200542Z",
     "shell.execute_reply.started": "2024-10-04T10:00:22.186388Z",
     "shell.execute_reply": "2024-10-04T10:00:22.199553Z"
    },
    "collapsed": true,
    "jupyter": {
     "outputs_hidden": true
    },
    "trusted": true
   },
   "outputs": [
    {
     "name": "stdout",
     "text": "-- net.features.6.0.block.2.fc1\n-- net.features.6.0.block.2.fc1\nConv2d(672, 28, kernel_size=(1, 1), stride=(1, 1))\nConv2d(672, 28, kernel_size=(1, 1), stride=(1, 1))\n-- net.features.6.0.block.2.fc2\n-- net.features.6.0.block.2.fc2\nConv2d(28, 672, kernel_size=(1, 1), stride=(1, 1))\nConv2d(28, 672, kernel_size=(1, 1), stride=(1, 1))\n-- net.features.2.0.block.3.0\n-- net.features.2.0.block.3.0\nConv2d(96, 24, kernel_size=(1, 1), stride=(1, 1), bias=False)\nConv2d(96, 24, kernel_size=(1, 1), stride=(1, 1), bias=False)\n-- net.features.3.1.block.3.0\n-- net.features.3.1.block.3.0\nConv2d(240, 40, kernel_size=(1, 1), stride=(1, 1), bias=False)\nConv2d(240, 40, kernel_size=(1, 1), stride=(1, 1), bias=False)\n-- net.features.6.0.block.3.0\n-- net.features.6.0.block.3.0\nConv2d(672, 192, kernel_size=(1, 1), stride=(1, 1), bias=False)\nConv2d(672, 192, kernel_size=(1, 1), stride=(1, 1), bias=False)\n-- net.features.7.0.block.2.fc1\n-- net.features.7.0.block.2.fc1\nConv2d(1152, 48, kernel_size=(1, 1), stride=(1, 1))\nConv2d(1152, 48, kernel_size=(1, 1), stride=(1, 1))\n-- net.features.7.0.block.3.0\n-- net.features.7.0.block.3.0\nConv2d(1152, 320, kernel_size=(1, 1), stride=(1, 1), bias=False)\nConv2d(1152, 320, kernel_size=(1, 1), stride=(1, 1), bias=False)\n",
     "output_type": "stream"
    }
   ],
   "execution_count": 113
  },
  {
   "cell_type": "markdown",
   "source": "# pie-chart plots- (\nAssignment 2 or skin-cancer-pie-chart)",
   "metadata": {}
  },
  {
   "cell_type": "code",
   "source": "!pip install torchinfo\n\nimport pandas as pd\nimport numpy as np\nimport torch\nimport os\nimport shutil\nimport matplotlib.pyplot as plt\nimport torch.nn as nn\nimport torch.nn.functional as F\nimport torch.optim as optim\nimport torchvision.models as models\nimport seaborn as sns\n\nfrom sklearn.metrics import classification_report, confusion_matrix\nfrom torch.utils.data import Dataset, WeightedRandomSampler, DataLoader, Subset\nfrom transformers import ConvNextForImageClassification\nfrom torchvision.transforms.functional import to_pil_image\nfrom torchvision import transforms\nfrom torchinfo import summary\nfrom PIL import Image\n",
   "metadata": {
    "jupyter": {
     "source_hidden": true
    }
   },
   "outputs": [],
   "execution_count": null
  },
  {
   "cell_type": "code",
   "source": "# Define a function to combine images in different folders into 1 folders\ndef combine_folders(src1, src2, dest):\n\n    copied_files = []  # List to store names of successfully copied files\n\n    # Create folder when destination folder not exist, exit function if destination folder contains contents from the source folder\n    if not os.path.exists(dest):\n      print(f\"Destination folder {dest} created...\")\n      os.makedirs(dest)\n\n    else:\n      # Recreate folder when destination folder do not have all the contents in source folders to avoid overlapping contents\n      if len(os.listdir(dest)) == (len(os.listdir(src1)) + len(os.listdir(src2))):\n        print(\"Content in source 1 folder and source 2 folder have been copied to destination folder\")\n\n        for filename in os.listdir(dest):\n            copied_files.append(filename)\n\n        return copied_files\n\n      else:\n        shutil.rmtree(dest)\n        os.makedirs(dest)\n\n\n    print(f\"Copying images in {src1} into {dest}...\")\n\n    # Loop through all content in source folder 1 and copy into destination folder, if source 1 folder exist\n    if os.path.exists(src1):\n      print('Source 1 folder consist of ', len(os.listdir(src1)), \" elements\")\n\n      for images in os.listdir(src1):\n\n        # Define the source path and the destination path for each images\n        src_path = os.path.join(src1, images)\n        dest_path = os.path.join(dest, images)\n\n        # Copy to the destination folder\n        shutil.copy(src_path, dest_path)\n        copied_files.append(images)\n\n      print(f\"All images in {src1} have been copied into {dest}...\")\n\n    else:\n      print(f\"{src1} not found\")\n\n\n    print(f\"Copying images in {src2} into {dest}...\")\n\n    # loop through all content in source folder 2 and copy into destination folder, if source 2 folder exist\n    if os.path.exists(src2):\n      print('Source 2 folder consist of ', len(os.listdir(src2)), \" elements\")\n\n      for images in os.listdir(src2):\n\n        # Define the source path and the destination path for each images\n        src_path = os.path.join(src2, images)\n        dest_path = os.path.join(dest, images)\n\n        # Copy to the destination folder\n        shutil.copy(src_path, dest_path)\n        copied_files.append(images)\n\n      print(f\"All images in {src2} have been copied into {dest}...\")\n\n    else:\n      print(f\"{src2} not found\")\n\n    print('Destination folder consist of ', len(os.listdir(dest)), \" elements\")\n\n    return copied_files",
   "metadata": {
    "jupyter": {
     "source_hidden": true
    }
   },
   "outputs": [],
   "execution_count": null
  },
  {
   "cell_type": "code",
   "source": "# Source directory\nimport shutil\n\nsource_dir = \"/kaggle/input/skin-cancer-mnist-ham10000\"\n\n# Destination directory\ndestination_dir = \"/kaggle/working/Dataset\"\n\nshutil.copytree(source_dir, destination_dir)\n# Define source paths to combined and destination path to store\nsrc1 = \"/kaggle/working/Dataset/HAM10000_images_part_1/\"\nsrc2 = \"/kaggle/working/Dataset/HAM10000_images_part_2/\"\ndest = \"/kaggle/working/Dataset/HAM10000/\"\ncopied_files = combine_folders(src1, src2, dest)",
   "metadata": {
    "jupyter": {
     "source_hidden": true
    }
   },
   "outputs": [],
   "execution_count": null
  },
  {
   "cell_type": "code",
   "source": "train_file = \"Dataset/HAM10000_metadata.csv\"\nskin_train_df = pd.read_csv(train_file)\n\nskin_train_df['image_id_with_extension'] = skin_train_df['image_id'] + '.jpg'\nskin_train_df = skin_train_df[skin_train_df['image_id_with_extension'].isin(copied_files)]\nskin_train_df = skin_train_df.drop(columns=['image_id_with_extension'])\n\nskin_train_df.head(5)",
   "metadata": {
    "jupyter": {
     "source_hidden": true
    }
   },
   "outputs": [],
   "execution_count": null
  },
  {
   "cell_type": "code",
   "source": "# Dictionary to map lesion type codes to their full names\nlesion_type_dict = {\n    'nv': 'Melanocytic nevi',\n    'mel': 'Melanoma',\n    'bkl': 'Benign keratosis-like lesions',\n    'bcc': 'Basal cell carcinoma',\n    'akiec': 'Actinic keratoses',\n    'vasc': 'Vascular lesions',\n    'df': 'Dermatofibroma'\n}",
   "metadata": {},
   "outputs": [],
   "execution_count": null
  },
  {
   "cell_type": "code",
   "source": "\n# Filter out the 'nv' category if it exists\nfiltered_df = skin_train_df[skin_train_df['dx'] != 'nv']\n\n\nimport matplotlib.pyplot as plt\n# Group by 'dx' and 'localization' and then count the occurrences\ngrouped_counts = filtered_df.groupby(['localization', 'dx']).size().reset_index(name='count')\n\n# Get unique localization categories\nlocalizations = grouped_counts['localization'].unique()\n# Define a fixed color map for each lesion type (dx)\ncolor_map = {\n    'mel': '#1f77b4',  # Blue\n    'bkl': '#ff7f0e',  # Orange\n    'bcc': '#2ca02c',  # Green\n    'akiec': '#d62728',  # Red\n    'vasc': '#9467bd',  # Purple\n    'df': '#8c564b',    # Brown\n    'nv': '#8c7e4b',\n}\n\n# Loop over each localization and save each pie chart as a separate PNG file\nfor i, localization in enumerate(localizations):\n    # Filter data for the current localization\n    loc_data = grouped_counts[grouped_counts['localization'] == localization]\n    \n    # Map the 'dx' values using the lesion_type_dict for the labels\n    labels = loc_data['dx'].map(lesion_type_dict)\n    \n    # Create a list of colors for the current dx values using the fixed color_map\n    colors = [color_map[dx] for dx in loc_data['dx']]\n    print(colors, loc_data)\n    # Create a new figure for each pie chart\n    fig, ax = plt.subplots(figsize=(6, 4))\n    \n    # Pie chart without labels, using the predefined colors\n    wedges, texts, autotexts = ax.pie(\n        loc_data['count'], autopct='%1.1f%%', startangle=90, colors=colors\n    )\n    \n    # Set title for the pie chart\n    ax.set_title(f'Lesion Type-[{localization.capitalize()}]')\n    \n    # Ensure the pie is drawn as a circle\n    ax.set_aspect('equal')\n\n    # Create a custom legend\n    legend_entries = [f\"{label}: {count}\" for label, count in zip(labels, loc_data['count'])]\n    \n    # Display the legend outside the chart\n    ax.legend(wedges, legend_entries, title=\"Lesion Type\", loc=\"center left\", bbox_to_anchor=(1, 0.5), fontsize=14, frameon=False)\n    \n    # Save the figure as a PNG file\n    plt.savefig(f'pie_chart_{localization}.png', bbox_inches='tight')\n    \n    # Close the figure to free up memory\n    plt.close()\n",
   "metadata": {},
   "outputs": [],
   "execution_count": null
  },
  {
   "cell_type": "code",
   "source": "skin_train_df['localization'].unique()",
   "metadata": {},
   "outputs": [],
   "execution_count": null
  },
  {
   "cell_type": "markdown",
   "source": "download the test folder data",
   "metadata": {}
  },
  {
   "cell_type": "code",
   "source": "test_df = pd.read_csv('/kaggle/input/ucidatasplits/test_df.csv').drop(columns=['Unnamed: 0'])\ntest_df.head()",
   "metadata": {
    "trusted": true,
    "execution": {
     "iopub.status.busy": "2025-01-20T14:26:01.761929Z",
     "iopub.execute_input": "2025-01-20T14:26:01.762287Z",
     "iopub.status.idle": "2025-01-20T14:26:01.788928Z",
     "shell.execute_reply.started": "2025-01-20T14:26:01.762261Z",
     "shell.execute_reply": "2025-01-20T14:26:01.787927Z"
    }
   },
   "outputs": [
    {
     "execution_count": 3,
     "output_type": "execute_result",
     "data": {
      "text/plain": "     lesion_id      image_id   dx    dx_type   age     sex     localization  \\\n0  HAM_0001359  ISIC_0028628  bkl      histo  75.0    male  lower extremity   \n1  HAM_0003188  ISIC_0030765   nv      histo  30.0  female          abdomen   \n2  HAM_0005275  ISIC_0028749  bkl      histo  65.0    male             face   \n3  HAM_0001061  ISIC_0029526   nv  follow_up  45.0    male             back   \n4  HAM_0003249  ISIC_0025114   nv  follow_up  35.0    male             back   \n\n                                           path  \\\n0  data\\HAM10000_images_part_1\\ISIC_0028628.jpg   \n1  data\\HAM10000_images_part_2\\ISIC_0030765.jpg   \n2  data\\HAM10000_images_part_1\\ISIC_0028749.jpg   \n3  data\\HAM10000_images_part_2\\ISIC_0029526.jpg   \n4  data\\HAM10000_images_part_1\\ISIC_0025114.jpg   \n\n                        cell_type  cell_type_idx  \n0  Benign keratosis-like lesions               2  \n1                Melanocytic nevi              4  \n2  Benign keratosis-like lesions               2  \n3                Melanocytic nevi              4  \n4                Melanocytic nevi              4  ",
      "text/html": "<div>\n<style scoped>\n    .dataframe tbody tr th:only-of-type {\n        vertical-align: middle;\n    }\n\n    .dataframe tbody tr th {\n        vertical-align: top;\n    }\n\n    .dataframe thead th {\n        text-align: right;\n    }\n</style>\n<table border=\"1\" class=\"dataframe\">\n  <thead>\n    <tr style=\"text-align: right;\">\n      <th></th>\n      <th>lesion_id</th>\n      <th>image_id</th>\n      <th>dx</th>\n      <th>dx_type</th>\n      <th>age</th>\n      <th>sex</th>\n      <th>localization</th>\n      <th>path</th>\n      <th>cell_type</th>\n      <th>cell_type_idx</th>\n    </tr>\n  </thead>\n  <tbody>\n    <tr>\n      <th>0</th>\n      <td>HAM_0001359</td>\n      <td>ISIC_0028628</td>\n      <td>bkl</td>\n      <td>histo</td>\n      <td>75.0</td>\n      <td>male</td>\n      <td>lower extremity</td>\n      <td>data\\HAM10000_images_part_1\\ISIC_0028628.jpg</td>\n      <td>Benign keratosis-like lesions</td>\n      <td>2</td>\n    </tr>\n    <tr>\n      <th>1</th>\n      <td>HAM_0003188</td>\n      <td>ISIC_0030765</td>\n      <td>nv</td>\n      <td>histo</td>\n      <td>30.0</td>\n      <td>female</td>\n      <td>abdomen</td>\n      <td>data\\HAM10000_images_part_2\\ISIC_0030765.jpg</td>\n      <td>Melanocytic nevi</td>\n      <td>4</td>\n    </tr>\n    <tr>\n      <th>2</th>\n      <td>HAM_0005275</td>\n      <td>ISIC_0028749</td>\n      <td>bkl</td>\n      <td>histo</td>\n      <td>65.0</td>\n      <td>male</td>\n      <td>face</td>\n      <td>data\\HAM10000_images_part_1\\ISIC_0028749.jpg</td>\n      <td>Benign keratosis-like lesions</td>\n      <td>2</td>\n    </tr>\n    <tr>\n      <th>3</th>\n      <td>HAM_0001061</td>\n      <td>ISIC_0029526</td>\n      <td>nv</td>\n      <td>follow_up</td>\n      <td>45.0</td>\n      <td>male</td>\n      <td>back</td>\n      <td>data\\HAM10000_images_part_2\\ISIC_0029526.jpg</td>\n      <td>Melanocytic nevi</td>\n      <td>4</td>\n    </tr>\n    <tr>\n      <th>4</th>\n      <td>HAM_0003249</td>\n      <td>ISIC_0025114</td>\n      <td>nv</td>\n      <td>follow_up</td>\n      <td>35.0</td>\n      <td>male</td>\n      <td>back</td>\n      <td>data\\HAM10000_images_part_1\\ISIC_0025114.jpg</td>\n      <td>Melanocytic nevi</td>\n      <td>4</td>\n    </tr>\n  </tbody>\n</table>\n</div>"
     },
     "metadata": {}
    }
   ],
   "execution_count": 3
  },
  {
   "cell_type": "code",
   "source": "test_df['image'] = test_df['path'].map(lambda x: (x[5:27]+'/'+x[-16:]))\ntest_df.head(1) ",
   "metadata": {
    "trusted": true,
    "execution": {
     "iopub.status.busy": "2025-01-20T14:33:23.471529Z",
     "iopub.execute_input": "2025-01-20T14:33:23.472006Z",
     "iopub.status.idle": "2025-01-20T14:33:23.491114Z",
     "shell.execute_reply.started": "2025-01-20T14:33:23.471972Z",
     "shell.execute_reply": "2025-01-20T14:33:23.489946Z"
    }
   },
   "outputs": [
    {
     "execution_count": 10,
     "output_type": "execute_result",
     "data": {
      "text/plain": "     lesion_id      image_id   dx dx_type   age   sex     localization  \\\n0  HAM_0001359  ISIC_0028628  bkl   histo  75.0  male  lower extremity   \n\n                                           path  \\\n0  data\\HAM10000_images_part_1\\ISIC_0028628.jpg   \n\n                        cell_type  cell_type_idx  \\\n0  Benign keratosis-like lesions               2   \n\n                                     image  \n0  HAM10000_images_part_1/ISIC_0028628.jpg  ",
      "text/html": "<div>\n<style scoped>\n    .dataframe tbody tr th:only-of-type {\n        vertical-align: middle;\n    }\n\n    .dataframe tbody tr th {\n        vertical-align: top;\n    }\n\n    .dataframe thead th {\n        text-align: right;\n    }\n</style>\n<table border=\"1\" class=\"dataframe\">\n  <thead>\n    <tr style=\"text-align: right;\">\n      <th></th>\n      <th>lesion_id</th>\n      <th>image_id</th>\n      <th>dx</th>\n      <th>dx_type</th>\n      <th>age</th>\n      <th>sex</th>\n      <th>localization</th>\n      <th>path</th>\n      <th>cell_type</th>\n      <th>cell_type_idx</th>\n      <th>image</th>\n    </tr>\n  </thead>\n  <tbody>\n    <tr>\n      <th>0</th>\n      <td>HAM_0001359</td>\n      <td>ISIC_0028628</td>\n      <td>bkl</td>\n      <td>histo</td>\n      <td>75.0</td>\n      <td>male</td>\n      <td>lower extremity</td>\n      <td>data\\HAM10000_images_part_1\\ISIC_0028628.jpg</td>\n      <td>Benign keratosis-like lesions</td>\n      <td>2</td>\n      <td>HAM10000_images_part_1/ISIC_0028628.jpg</td>\n    </tr>\n  </tbody>\n</table>\n</div>"
     },
     "metadata": {}
    }
   ],
   "execution_count": 10
  },
  {
   "cell_type": "code",
   "source": "",
   "metadata": {
    "trusted": true,
    "execution": {
     "iopub.status.busy": "2025-01-20T14:34:32.892749Z",
     "iopub.execute_input": "2025-01-20T14:34:32.893488Z",
     "iopub.status.idle": "2025-01-20T14:34:32.898050Z",
     "shell.execute_reply.started": "2025-01-20T14:34:32.893461Z",
     "shell.execute_reply": "2025-01-20T14:34:32.897104Z"
    }
   },
   "outputs": [],
   "execution_count": 13
  },
  {
   "cell_type": "code",
   "source": "import os\nimport shutil\n\n# Define source and destination directories\nsource_folder = \"/kaggle/input/skin-cancer-mnist-ham10000/\"\ndestination_folder = \"/kaggle/working/testdata/\"\n\n# Ensure destination folder exists\nos.makedirs(destination_folder, exist_ok=True)\n\n# Iterate through the 'image' column in result_df\nfor image_name in test_df['image']:\n    # Construct full file paths\n    source_path = os.path.join(source_folder, image_name)  # Assuming files have .jpg extension\n    destination_path = os.path.join(destination_folder, image_name[-16:])\n    \n    # Copy file if it exists in the source folder\n    if os.path.exists(source_path):\n        shutil.copy(source_path, destination_path)\n    else:\n        print(f\"File not found: {source_path}\")\n",
   "metadata": {
    "trusted": true,
    "execution": {
     "iopub.status.busy": "2025-01-20T14:35:09.042935Z",
     "iopub.execute_input": "2025-01-20T14:35:09.043814Z",
     "iopub.status.idle": "2025-01-20T14:35:22.048205Z",
     "shell.execute_reply.started": "2025-01-20T14:35:09.043787Z",
     "shell.execute_reply": "2025-01-20T14:35:22.047357Z"
    }
   },
   "outputs": [],
   "execution_count": 15
  },
  {
   "cell_type": "code",
   "source": "# Create a zip archive\noutput_zip_file = \"to_testfolder.zip\"\nshutil.make_archive(base_name=output_zip_file.replace('.zip', ''), format='zip', root_dir='/kaggle/working/testdata')",
   "metadata": {
    "trusted": true,
    "execution": {
     "iopub.status.busy": "2025-01-20T14:50:57.147131Z",
     "iopub.execute_input": "2025-01-20T14:50:57.147512Z",
     "iopub.status.idle": "2025-01-20T14:51:08.979491Z",
     "shell.execute_reply.started": "2025-01-20T14:50:57.147483Z",
     "shell.execute_reply": "2025-01-20T14:51:08.978218Z"
    }
   },
   "outputs": [
    {
     "execution_count": 17,
     "output_type": "execute_result",
     "data": {
      "text/plain": "'/kaggle/working/to_testfolder.zip'"
     },
     "metadata": {}
    }
   ],
   "execution_count": 17
  },
  {
   "cell_type": "code",
   "source": "",
   "metadata": {
    "trusted": true
   },
   "outputs": [],
   "execution_count": null
  },
  {
   "cell_type": "code",
   "source": "",
   "metadata": {
    "trusted": true
   },
   "outputs": [],
   "execution_count": null
  },
  {
   "cell_type": "code",
   "source": "",
   "metadata": {
    "trusted": true
   },
   "outputs": [],
   "execution_count": null
  },
  {
   "cell_type": "code",
   "source": "",
   "metadata": {
    "trusted": true
   },
   "outputs": [],
   "execution_count": null
  }
 ]
}
